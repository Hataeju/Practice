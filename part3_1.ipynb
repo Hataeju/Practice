{
  "cells": [
    {
      "cell_type": "markdown",
      "metadata": {
        "id": "view-in-github",
        "colab_type": "text"
      },
      "source": [
        "<a href=\"https://colab.research.google.com/github/Hataeju/Practice/blob/main/part3_1.ipynb\" target=\"_parent\"><img src=\"https://colab.research.google.com/assets/colab-badge.svg\" alt=\"Open In Colab\"/></a>"
      ]
    },
    {
      "cell_type": "markdown",
      "metadata": {
        "id": "uxnIwT7FCN2-"
      },
      "source": [
        "# 2. 데이터 준비"
      ]
    },
    {
      "cell_type": "markdown",
      "metadata": {
        "id": "BDFvv6SpshQn"
      },
      "source": [
        "### 기본 라이브러리 Import"
      ]
    },
    {
      "cell_type": "code",
      "execution_count": 2,
      "metadata": {
        "id": "XN9itg9ECLzJ"
      },
      "outputs": [],
      "source": [
        "# 기본라이브러리 import\n",
        "from google.colab import drive\n",
        "import os, json, pickle\n",
        "import subprocess\n",
        "import itertools\n",
        "\n",
        "import numpy as np\n",
        "import pandas as pd\n",
        "import matplotlib.pyplot as plt\n",
        "\n",
        "from sklearn import preprocessing\n",
        "from sklearn.model_selection import train_test_split\n",
        "\n",
        "from sklearn.linear_model import LogisticRegression\n",
        "from sklearn.svm import SVC\n",
        "from sklearn.ensemble import RandomForestClassifier\n",
        "\n",
        "from sklearn.metrics import confusion_matrix, ConfusionMatrixDisplay"
      ]
    },
    {
      "cell_type": "markdown",
      "metadata": {
        "id": "_J2TUu2fk47i"
      },
      "source": [
        "### 라이브러리 추가 설치 및 Import"
      ]
    },
    {
      "cell_type": "code",
      "execution_count": 3,
      "metadata": {
        "id": "18mlD1VrG63l",
        "colab": {
          "base_uri": "https://localhost:8080/"
        },
        "outputId": "bca34cf3-dcaa-40f5-85a0-948fc1be6e0d"
      },
      "outputs": [
        {
          "output_type": "stream",
          "name": "stdout",
          "text": [
            "Collecting pefile\n",
            "  Downloading pefile-2024.8.26-py3-none-any.whl.metadata (1.4 kB)\n",
            "Downloading pefile-2024.8.26-py3-none-any.whl (74 kB)\n",
            "\u001b[?25l   \u001b[90m━━━━━━━━━━━━━━━━━━━━━━━━━━━━━━━━━━━━━━━━\u001b[0m \u001b[32m0.0/74.8 kB\u001b[0m \u001b[31m?\u001b[0m eta \u001b[36m-:--:--\u001b[0m\r\u001b[2K   \u001b[90m━━━━━━━━━━━━━━━━━━━━━━━━━━━━━━━━━━━━━━━━\u001b[0m \u001b[32m74.8/74.8 kB\u001b[0m \u001b[31m2.2 MB/s\u001b[0m eta \u001b[36m0:00:00\u001b[0m\n",
            "\u001b[?25hInstalling collected packages: pefile\n",
            "Successfully installed pefile-2024.8.26\n"
          ]
        }
      ],
      "source": [
        "!pip install pefile"
      ]
    },
    {
      "cell_type": "code",
      "execution_count": 4,
      "metadata": {
        "id": "4bGCuUaLZ2c6",
        "colab": {
          "base_uri": "https://localhost:8080/"
        },
        "outputId": "794cddb4-50ec-4424-a18e-923c12481e73"
      },
      "outputs": [
        {
          "output_type": "stream",
          "name": "stdout",
          "text": [
            "Collecting yara-python\n",
            "  Downloading yara_python-4.5.4-cp311-cp311-manylinux_2_17_x86_64.manylinux2014_x86_64.whl.metadata (2.8 kB)\n",
            "Downloading yara_python-4.5.4-cp311-cp311-manylinux_2_17_x86_64.manylinux2014_x86_64.whl (2.3 MB)\n",
            "\u001b[2K   \u001b[90m━━━━━━━━━━━━━━━━━━━━━━━━━━━━━━━━━━━━━━━━\u001b[0m \u001b[32m2.3/2.3 MB\u001b[0m \u001b[31m13.2 MB/s\u001b[0m eta \u001b[36m0:00:00\u001b[0m\n",
            "\u001b[?25hInstalling collected packages: yara-python\n",
            "Successfully installed yara-python-4.5.4\n"
          ]
        }
      ],
      "source": [
        "!pip install yara-python"
      ]
    },
    {
      "cell_type": "code",
      "execution_count": 5,
      "metadata": {
        "id": "qEKd9lXCFHHm",
        "colab": {
          "base_uri": "https://localhost:8080/"
        },
        "outputId": "b45bfc0e-c110-451f-9ccc-05cf756f8cf4"
      },
      "outputs": [
        {
          "output_type": "stream",
          "name": "stdout",
          "text": [
            "Collecting peid\n",
            "  Downloading peid-2.2.1-py3-none-any.whl.metadata (45 kB)\n",
            "\u001b[2K     \u001b[90m━━━━━━━━━━━━━━━━━━━━━━━━━━━━━━━━━━━━━━━━\u001b[0m \u001b[32m45.5/45.5 kB\u001b[0m \u001b[31m2.2 MB/s\u001b[0m eta \u001b[36m0:00:00\u001b[0m\n",
            "\u001b[?25hCollecting msgspec (from peid)\n",
            "  Downloading msgspec-0.19.0-cp311-cp311-manylinux_2_17_x86_64.manylinux2014_x86_64.whl.metadata (6.9 kB)\n",
            "Downloading peid-2.2.1-py3-none-any.whl (554 kB)\n",
            "\u001b[2K   \u001b[90m━━━━━━━━━━━━━━━━━━━━━━━━━━━━━━━━━━━━━━━━\u001b[0m \u001b[32m554.9/554.9 kB\u001b[0m \u001b[31m7.9 MB/s\u001b[0m eta \u001b[36m0:00:00\u001b[0m\n",
            "\u001b[?25hDownloading msgspec-0.19.0-cp311-cp311-manylinux_2_17_x86_64.manylinux2014_x86_64.whl (210 kB)\n",
            "\u001b[2K   \u001b[90m━━━━━━━━━━━━━━━━━━━━━━━━━━━━━━━━━━━━━━━━\u001b[0m \u001b[32m210.7/210.7 kB\u001b[0m \u001b[31m10.9 MB/s\u001b[0m eta \u001b[36m0:00:00\u001b[0m\n",
            "\u001b[?25hInstalling collected packages: msgspec, peid\n",
            "Successfully installed msgspec-0.19.0 peid-2.2.1\n"
          ]
        }
      ],
      "source": [
        "!pip install peid"
      ]
    },
    {
      "cell_type": "code",
      "execution_count": 6,
      "metadata": {
        "id": "WzctqhJgrW_n"
      },
      "outputs": [],
      "source": [
        "# 추가 라이브러리 import\n",
        "import pefile\n",
        "import yara"
      ]
    },
    {
      "cell_type": "markdown",
      "metadata": {
        "id": "DOCggYDLCujt"
      },
      "source": [
        "### 데이터 로드"
      ]
    },
    {
      "cell_type": "code",
      "execution_count": 22,
      "metadata": {
        "id": "xk-xedhaCyDe",
        "colab": {
          "base_uri": "https://localhost:8080/"
        },
        "outputId": "4602d9fb-a330-4483-8658-c57fce5fbf35"
      },
      "outputs": [
        {
          "output_type": "stream",
          "name": "stdout",
          "text": [
            "Drive already mounted at /content/gdrive; to attempt to forcibly remount, call drive.mount(\"/content/gdrive\", force_remount=True).\n"
          ]
        }
      ],
      "source": [
        "# 구글 드라이브 mount\n",
        "drive.mount('/content/gdrive')\n"
      ]
    },
    {
      "cell_type": "code",
      "execution_count": 23,
      "metadata": {
        "id": "0r8Vy1XBD2dl"
      },
      "outputs": [],
      "source": [
        "# 데이터 파일 위치\n",
        "colab_path = \"gdrive/My Drive/AI보안교육/part3/\"\n"
      ]
    },
    {
      "cell_type": "code",
      "execution_count": 9,
      "metadata": {
        "id": "rBtEHWDyUWIg"
      },
      "outputs": [],
      "source": [
        "# ! 주석을 해제하여 한번만 실행하세요!\n",
        "# ! 파일 취급에 주의해주세요!\n",
        "# ! 명령 실행 후 바로 다시 주석처리 해주세요 !\n",
        "#!unzip -P 'infected' -qq '/content/gdrive/My Drive/AI보안교육/part3/data_orig/train.zip' -d '/content/gdrive/My Drive/AI보안교육/part3/data_train'\n",
        "#!unzip -P 'infected' -qq '/content/gdrive/My Drive/AI보안교육/part3/data_orig/test.zip' -d '/content/gdrive/My Drive/AI보안교육/part3/data_test'"
      ]
    },
    {
      "cell_type": "code",
      "execution_count": null,
      "metadata": {
        "id": "EfkCxfYX33yE"
      },
      "outputs": [],
      "source": [
        "# data_train, data_test에 파일이 압축해제 되어 있는지 확인해 주세요.\n",
        "# local PC로 다운받지 마세요.\n",
        "# virus total등 외부 분석 서비스에 업로드 하시면 안됩니다.\n",
        "# 해당 실습을 위해서만 활용가능합니다. 다른 곳에 공유/사용되면 안됩니다."
      ]
    },
    {
      "cell_type": "code",
      "execution_count": 10,
      "metadata": {
        "id": "zZUeOsWvWVjS"
      },
      "outputs": [],
      "source": [
        "# 레이블 파일 로드 => 학습데이터의 초기 Dataframe으로 사용한다.\n",
        "df_train = pd.read_csv(colab_path + \"data_orig/trainSet_label_1000.csv\",index_col='hash')\n",
        "#df_train = df_train[:20] # 처음에는 20개정도의 파일로 Feature Engineering이 잘 되는지 검증 후, 주석 처리하여 전체 파일로 확대한다."
      ]
    },
    {
      "cell_type": "code",
      "execution_count": 11,
      "metadata": {
        "id": "TKcjakqVvoEY",
        "colab": {
          "base_uri": "https://localhost:8080/",
          "height": 455
        },
        "outputId": "167227d9-f268-4629-f551-35957a17266b"
      },
      "outputs": [
        {
          "output_type": "execute_result",
          "data": {
            "text/plain": [
              "                                      index_orig  target\n",
              "hash                                                    \n",
              "ac282b5c526acab44530c0a995d4e23a.vir        6710       1\n",
              "7a44a4bf7c9a7f332901e6a792e9c8b5.vir        4725       0\n",
              "1581f524dec2cc3ba8bef37f3ab3d1fd.vir         872       0\n",
              "15166c91b32b49734932ccae17426f16.vir         862       1\n",
              "cba8e5374081db7da8d45fa98359d87f.vir        7976       1\n",
              "...                                          ...     ...\n",
              "e638f5c2fc248ef94a75bbca6923cb57.vir        9004       0\n",
              "0a9dea1605ae2f00f5e3ab2b41b4548d.vir         419       1\n",
              "f3bf38b27d8a472be11cb2967fcea3ff.vir        9527       0\n",
              "7cba14a7de16383e7daba7e7f7c40f5a.vir        4811       0\n",
              "6f7ad084c602a3056d4c4cca1f10f407.vir        4325       1\n",
              "\n",
              "[1000 rows x 2 columns]"
            ],
            "text/html": [
              "\n",
              "  <div id=\"df-56a0a0d4-a12a-47b4-bc09-08101e27ea86\" class=\"colab-df-container\">\n",
              "    <div>\n",
              "<style scoped>\n",
              "    .dataframe tbody tr th:only-of-type {\n",
              "        vertical-align: middle;\n",
              "    }\n",
              "\n",
              "    .dataframe tbody tr th {\n",
              "        vertical-align: top;\n",
              "    }\n",
              "\n",
              "    .dataframe thead th {\n",
              "        text-align: right;\n",
              "    }\n",
              "</style>\n",
              "<table border=\"1\" class=\"dataframe\">\n",
              "  <thead>\n",
              "    <tr style=\"text-align: right;\">\n",
              "      <th></th>\n",
              "      <th>index_orig</th>\n",
              "      <th>target</th>\n",
              "    </tr>\n",
              "    <tr>\n",
              "      <th>hash</th>\n",
              "      <th></th>\n",
              "      <th></th>\n",
              "    </tr>\n",
              "  </thead>\n",
              "  <tbody>\n",
              "    <tr>\n",
              "      <th>ac282b5c526acab44530c0a995d4e23a.vir</th>\n",
              "      <td>6710</td>\n",
              "      <td>1</td>\n",
              "    </tr>\n",
              "    <tr>\n",
              "      <th>7a44a4bf7c9a7f332901e6a792e9c8b5.vir</th>\n",
              "      <td>4725</td>\n",
              "      <td>0</td>\n",
              "    </tr>\n",
              "    <tr>\n",
              "      <th>1581f524dec2cc3ba8bef37f3ab3d1fd.vir</th>\n",
              "      <td>872</td>\n",
              "      <td>0</td>\n",
              "    </tr>\n",
              "    <tr>\n",
              "      <th>15166c91b32b49734932ccae17426f16.vir</th>\n",
              "      <td>862</td>\n",
              "      <td>1</td>\n",
              "    </tr>\n",
              "    <tr>\n",
              "      <th>cba8e5374081db7da8d45fa98359d87f.vir</th>\n",
              "      <td>7976</td>\n",
              "      <td>1</td>\n",
              "    </tr>\n",
              "    <tr>\n",
              "      <th>...</th>\n",
              "      <td>...</td>\n",
              "      <td>...</td>\n",
              "    </tr>\n",
              "    <tr>\n",
              "      <th>e638f5c2fc248ef94a75bbca6923cb57.vir</th>\n",
              "      <td>9004</td>\n",
              "      <td>0</td>\n",
              "    </tr>\n",
              "    <tr>\n",
              "      <th>0a9dea1605ae2f00f5e3ab2b41b4548d.vir</th>\n",
              "      <td>419</td>\n",
              "      <td>1</td>\n",
              "    </tr>\n",
              "    <tr>\n",
              "      <th>f3bf38b27d8a472be11cb2967fcea3ff.vir</th>\n",
              "      <td>9527</td>\n",
              "      <td>0</td>\n",
              "    </tr>\n",
              "    <tr>\n",
              "      <th>7cba14a7de16383e7daba7e7f7c40f5a.vir</th>\n",
              "      <td>4811</td>\n",
              "      <td>0</td>\n",
              "    </tr>\n",
              "    <tr>\n",
              "      <th>6f7ad084c602a3056d4c4cca1f10f407.vir</th>\n",
              "      <td>4325</td>\n",
              "      <td>1</td>\n",
              "    </tr>\n",
              "  </tbody>\n",
              "</table>\n",
              "<p>1000 rows × 2 columns</p>\n",
              "</div>\n",
              "    <div class=\"colab-df-buttons\">\n",
              "\n",
              "  <div class=\"colab-df-container\">\n",
              "    <button class=\"colab-df-convert\" onclick=\"convertToInteractive('df-56a0a0d4-a12a-47b4-bc09-08101e27ea86')\"\n",
              "            title=\"Convert this dataframe to an interactive table.\"\n",
              "            style=\"display:none;\">\n",
              "\n",
              "  <svg xmlns=\"http://www.w3.org/2000/svg\" height=\"24px\" viewBox=\"0 -960 960 960\">\n",
              "    <path d=\"M120-120v-720h720v720H120Zm60-500h600v-160H180v160Zm220 220h160v-160H400v160Zm0 220h160v-160H400v160ZM180-400h160v-160H180v160Zm440 0h160v-160H620v160ZM180-180h160v-160H180v160Zm440 0h160v-160H620v160Z\"/>\n",
              "  </svg>\n",
              "    </button>\n",
              "\n",
              "  <style>\n",
              "    .colab-df-container {\n",
              "      display:flex;\n",
              "      gap: 12px;\n",
              "    }\n",
              "\n",
              "    .colab-df-convert {\n",
              "      background-color: #E8F0FE;\n",
              "      border: none;\n",
              "      border-radius: 50%;\n",
              "      cursor: pointer;\n",
              "      display: none;\n",
              "      fill: #1967D2;\n",
              "      height: 32px;\n",
              "      padding: 0 0 0 0;\n",
              "      width: 32px;\n",
              "    }\n",
              "\n",
              "    .colab-df-convert:hover {\n",
              "      background-color: #E2EBFA;\n",
              "      box-shadow: 0px 1px 2px rgba(60, 64, 67, 0.3), 0px 1px 3px 1px rgba(60, 64, 67, 0.15);\n",
              "      fill: #174EA6;\n",
              "    }\n",
              "\n",
              "    .colab-df-buttons div {\n",
              "      margin-bottom: 4px;\n",
              "    }\n",
              "\n",
              "    [theme=dark] .colab-df-convert {\n",
              "      background-color: #3B4455;\n",
              "      fill: #D2E3FC;\n",
              "    }\n",
              "\n",
              "    [theme=dark] .colab-df-convert:hover {\n",
              "      background-color: #434B5C;\n",
              "      box-shadow: 0px 1px 3px 1px rgba(0, 0, 0, 0.15);\n",
              "      filter: drop-shadow(0px 1px 2px rgba(0, 0, 0, 0.3));\n",
              "      fill: #FFFFFF;\n",
              "    }\n",
              "  </style>\n",
              "\n",
              "    <script>\n",
              "      const buttonEl =\n",
              "        document.querySelector('#df-56a0a0d4-a12a-47b4-bc09-08101e27ea86 button.colab-df-convert');\n",
              "      buttonEl.style.display =\n",
              "        google.colab.kernel.accessAllowed ? 'block' : 'none';\n",
              "\n",
              "      async function convertToInteractive(key) {\n",
              "        const element = document.querySelector('#df-56a0a0d4-a12a-47b4-bc09-08101e27ea86');\n",
              "        const dataTable =\n",
              "          await google.colab.kernel.invokeFunction('convertToInteractive',\n",
              "                                                    [key], {});\n",
              "        if (!dataTable) return;\n",
              "\n",
              "        const docLinkHtml = 'Like what you see? Visit the ' +\n",
              "          '<a target=\"_blank\" href=https://colab.research.google.com/notebooks/data_table.ipynb>data table notebook</a>'\n",
              "          + ' to learn more about interactive tables.';\n",
              "        element.innerHTML = '';\n",
              "        dataTable['output_type'] = 'display_data';\n",
              "        await google.colab.output.renderOutput(dataTable, element);\n",
              "        const docLink = document.createElement('div');\n",
              "        docLink.innerHTML = docLinkHtml;\n",
              "        element.appendChild(docLink);\n",
              "      }\n",
              "    </script>\n",
              "  </div>\n",
              "\n",
              "\n",
              "    <div id=\"df-b586bd24-1ea2-4877-abf1-8c6d7baee636\">\n",
              "      <button class=\"colab-df-quickchart\" onclick=\"quickchart('df-b586bd24-1ea2-4877-abf1-8c6d7baee636')\"\n",
              "                title=\"Suggest charts\"\n",
              "                style=\"display:none;\">\n",
              "\n",
              "<svg xmlns=\"http://www.w3.org/2000/svg\" height=\"24px\"viewBox=\"0 0 24 24\"\n",
              "     width=\"24px\">\n",
              "    <g>\n",
              "        <path d=\"M19 3H5c-1.1 0-2 .9-2 2v14c0 1.1.9 2 2 2h14c1.1 0 2-.9 2-2V5c0-1.1-.9-2-2-2zM9 17H7v-7h2v7zm4 0h-2V7h2v10zm4 0h-2v-4h2v4z\"/>\n",
              "    </g>\n",
              "</svg>\n",
              "      </button>\n",
              "\n",
              "<style>\n",
              "  .colab-df-quickchart {\n",
              "      --bg-color: #E8F0FE;\n",
              "      --fill-color: #1967D2;\n",
              "      --hover-bg-color: #E2EBFA;\n",
              "      --hover-fill-color: #174EA6;\n",
              "      --disabled-fill-color: #AAA;\n",
              "      --disabled-bg-color: #DDD;\n",
              "  }\n",
              "\n",
              "  [theme=dark] .colab-df-quickchart {\n",
              "      --bg-color: #3B4455;\n",
              "      --fill-color: #D2E3FC;\n",
              "      --hover-bg-color: #434B5C;\n",
              "      --hover-fill-color: #FFFFFF;\n",
              "      --disabled-bg-color: #3B4455;\n",
              "      --disabled-fill-color: #666;\n",
              "  }\n",
              "\n",
              "  .colab-df-quickchart {\n",
              "    background-color: var(--bg-color);\n",
              "    border: none;\n",
              "    border-radius: 50%;\n",
              "    cursor: pointer;\n",
              "    display: none;\n",
              "    fill: var(--fill-color);\n",
              "    height: 32px;\n",
              "    padding: 0;\n",
              "    width: 32px;\n",
              "  }\n",
              "\n",
              "  .colab-df-quickchart:hover {\n",
              "    background-color: var(--hover-bg-color);\n",
              "    box-shadow: 0 1px 2px rgba(60, 64, 67, 0.3), 0 1px 3px 1px rgba(60, 64, 67, 0.15);\n",
              "    fill: var(--button-hover-fill-color);\n",
              "  }\n",
              "\n",
              "  .colab-df-quickchart-complete:disabled,\n",
              "  .colab-df-quickchart-complete:disabled:hover {\n",
              "    background-color: var(--disabled-bg-color);\n",
              "    fill: var(--disabled-fill-color);\n",
              "    box-shadow: none;\n",
              "  }\n",
              "\n",
              "  .colab-df-spinner {\n",
              "    border: 2px solid var(--fill-color);\n",
              "    border-color: transparent;\n",
              "    border-bottom-color: var(--fill-color);\n",
              "    animation:\n",
              "      spin 1s steps(1) infinite;\n",
              "  }\n",
              "\n",
              "  @keyframes spin {\n",
              "    0% {\n",
              "      border-color: transparent;\n",
              "      border-bottom-color: var(--fill-color);\n",
              "      border-left-color: var(--fill-color);\n",
              "    }\n",
              "    20% {\n",
              "      border-color: transparent;\n",
              "      border-left-color: var(--fill-color);\n",
              "      border-top-color: var(--fill-color);\n",
              "    }\n",
              "    30% {\n",
              "      border-color: transparent;\n",
              "      border-left-color: var(--fill-color);\n",
              "      border-top-color: var(--fill-color);\n",
              "      border-right-color: var(--fill-color);\n",
              "    }\n",
              "    40% {\n",
              "      border-color: transparent;\n",
              "      border-right-color: var(--fill-color);\n",
              "      border-top-color: var(--fill-color);\n",
              "    }\n",
              "    60% {\n",
              "      border-color: transparent;\n",
              "      border-right-color: var(--fill-color);\n",
              "    }\n",
              "    80% {\n",
              "      border-color: transparent;\n",
              "      border-right-color: var(--fill-color);\n",
              "      border-bottom-color: var(--fill-color);\n",
              "    }\n",
              "    90% {\n",
              "      border-color: transparent;\n",
              "      border-bottom-color: var(--fill-color);\n",
              "    }\n",
              "  }\n",
              "</style>\n",
              "\n",
              "      <script>\n",
              "        async function quickchart(key) {\n",
              "          const quickchartButtonEl =\n",
              "            document.querySelector('#' + key + ' button');\n",
              "          quickchartButtonEl.disabled = true;  // To prevent multiple clicks.\n",
              "          quickchartButtonEl.classList.add('colab-df-spinner');\n",
              "          try {\n",
              "            const charts = await google.colab.kernel.invokeFunction(\n",
              "                'suggestCharts', [key], {});\n",
              "          } catch (error) {\n",
              "            console.error('Error during call to suggestCharts:', error);\n",
              "          }\n",
              "          quickchartButtonEl.classList.remove('colab-df-spinner');\n",
              "          quickchartButtonEl.classList.add('colab-df-quickchart-complete');\n",
              "        }\n",
              "        (() => {\n",
              "          let quickchartButtonEl =\n",
              "            document.querySelector('#df-b586bd24-1ea2-4877-abf1-8c6d7baee636 button');\n",
              "          quickchartButtonEl.style.display =\n",
              "            google.colab.kernel.accessAllowed ? 'block' : 'none';\n",
              "        })();\n",
              "      </script>\n",
              "    </div>\n",
              "\n",
              "  <div id=\"id_6cc27d2e-2a10-43c5-bb68-62539a0a8c5a\">\n",
              "    <style>\n",
              "      .colab-df-generate {\n",
              "        background-color: #E8F0FE;\n",
              "        border: none;\n",
              "        border-radius: 50%;\n",
              "        cursor: pointer;\n",
              "        display: none;\n",
              "        fill: #1967D2;\n",
              "        height: 32px;\n",
              "        padding: 0 0 0 0;\n",
              "        width: 32px;\n",
              "      }\n",
              "\n",
              "      .colab-df-generate:hover {\n",
              "        background-color: #E2EBFA;\n",
              "        box-shadow: 0px 1px 2px rgba(60, 64, 67, 0.3), 0px 1px 3px 1px rgba(60, 64, 67, 0.15);\n",
              "        fill: #174EA6;\n",
              "      }\n",
              "\n",
              "      [theme=dark] .colab-df-generate {\n",
              "        background-color: #3B4455;\n",
              "        fill: #D2E3FC;\n",
              "      }\n",
              "\n",
              "      [theme=dark] .colab-df-generate:hover {\n",
              "        background-color: #434B5C;\n",
              "        box-shadow: 0px 1px 3px 1px rgba(0, 0, 0, 0.15);\n",
              "        filter: drop-shadow(0px 1px 2px rgba(0, 0, 0, 0.3));\n",
              "        fill: #FFFFFF;\n",
              "      }\n",
              "    </style>\n",
              "    <button class=\"colab-df-generate\" onclick=\"generateWithVariable('df_train')\"\n",
              "            title=\"Generate code using this dataframe.\"\n",
              "            style=\"display:none;\">\n",
              "\n",
              "  <svg xmlns=\"http://www.w3.org/2000/svg\" height=\"24px\"viewBox=\"0 0 24 24\"\n",
              "       width=\"24px\">\n",
              "    <path d=\"M7,19H8.4L18.45,9,17,7.55,7,17.6ZM5,21V16.75L18.45,3.32a2,2,0,0,1,2.83,0l1.4,1.43a1.91,1.91,0,0,1,.58,1.4,1.91,1.91,0,0,1-.58,1.4L9.25,21ZM18.45,9,17,7.55Zm-12,3A5.31,5.31,0,0,0,4.9,8.1,5.31,5.31,0,0,0,1,6.5,5.31,5.31,0,0,0,4.9,4.9,5.31,5.31,0,0,0,6.5,1,5.31,5.31,0,0,0,8.1,4.9,5.31,5.31,0,0,0,12,6.5,5.46,5.46,0,0,0,6.5,12Z\"/>\n",
              "  </svg>\n",
              "    </button>\n",
              "    <script>\n",
              "      (() => {\n",
              "      const buttonEl =\n",
              "        document.querySelector('#id_6cc27d2e-2a10-43c5-bb68-62539a0a8c5a button.colab-df-generate');\n",
              "      buttonEl.style.display =\n",
              "        google.colab.kernel.accessAllowed ? 'block' : 'none';\n",
              "\n",
              "      buttonEl.onclick = () => {\n",
              "        google.colab.notebook.generateWithVariable('df_train');\n",
              "      }\n",
              "      })();\n",
              "    </script>\n",
              "  </div>\n",
              "\n",
              "    </div>\n",
              "  </div>\n"
            ],
            "application/vnd.google.colaboratory.intrinsic+json": {
              "type": "dataframe",
              "variable_name": "df_train",
              "summary": "{\n  \"name\": \"df_train\",\n  \"rows\": 1000,\n  \"fields\": [\n    {\n      \"column\": \"hash\",\n      \"properties\": {\n        \"dtype\": \"string\",\n        \"num_unique_values\": 1000,\n        \"samples\": [\n          \"cd8c9964ec4b3f77ab318c68836bfb81.vir\",\n          \"5aa639f4b69779df1438b18f7b1c4dab.vir\",\n          \"9f834d8045691b1401698456dfe06fbb.vir\"\n        ],\n        \"semantic_type\": \"\",\n        \"description\": \"\"\n      }\n    },\n    {\n      \"column\": \"index_orig\",\n      \"properties\": {\n        \"dtype\": \"number\",\n        \"std\": 2856,\n        \"min\": 3,\n        \"max\": 9975,\n        \"num_unique_values\": 1000,\n        \"samples\": [\n          8053,\n          3549,\n          6206\n        ],\n        \"semantic_type\": \"\",\n        \"description\": \"\"\n      }\n    },\n    {\n      \"column\": \"target\",\n      \"properties\": {\n        \"dtype\": \"number\",\n        \"std\": 0,\n        \"min\": 0,\n        \"max\": 1,\n        \"num_unique_values\": 2,\n        \"samples\": [\n          0,\n          1\n        ],\n        \"semantic_type\": \"\",\n        \"description\": \"\"\n      }\n    }\n  ]\n}"
            }
          },
          "metadata": {},
          "execution_count": 11
        }
      ],
      "source": [
        "df_train"
      ]
    },
    {
      "cell_type": "code",
      "source": [
        "# prompt: df_train에 있는 파일명(hash 컬럼)을 가져와서 colab_path 뒤에 data_train 폴더에서 해당 파일을 찾아서 실제로 md5를 구한 다음, 파일명에 있는 md5와 일치하는지 검증하고, 일치하지 않는 것은 출력, 그 후 요약해줘. 비교할때는 파일명에서 앞에 32자만 가지고 비교해\n",
        "\n",
        "import hashlib\n",
        "\n",
        "mismatched_files = []\n",
        "for index, row in df_train.iterrows():\n",
        "  filename = index\n",
        "  filepath = os.path.join(colab_path, \"data_train\", filename)\n",
        "  try:\n",
        "    with open(filepath, \"rb\") as f:\n",
        "      file_hash = hashlib.md5(f.read()).hexdigest()\n",
        "    if file_hash[:32] != filename[:32]:\n",
        "      print(f\"Mismatch found: File '{filename}', Calculated MD5: {file_hash}, Filename MD5: {filename[:32]}\")\n",
        "      mismatched_files.append(filename)\n",
        "  except FileNotFoundError:\n",
        "    print(f\"File not found: {filepath}\")\n",
        "    mismatched_files.append(filename)\n",
        "\n",
        "print(\"\\n--- Summary ---\")\n",
        "if mismatched_files:\n",
        "  print(f\"Number of files with MD5 mismatch or not found: {len(mismatched_files)}\")\n",
        "  print(\"List of mismatched or not found files:\")\n",
        "  for f in mismatched_files:\n",
        "    print(f)\n",
        "else:\n",
        "  print(\"All files matched their filename MD5 or were not found.\")\n"
      ],
      "metadata": {
        "colab": {
          "base_uri": "https://localhost:8080/"
        },
        "id": "3Bol8ipBBTIm",
        "outputId": "685e44a3-26cb-4163-8ed7-cb0bf812e8ae"
      },
      "execution_count": 12,
      "outputs": [
        {
          "output_type": "stream",
          "name": "stdout",
          "text": [
            "\n",
            "--- Summary ---\n",
            "All files matched their filename MD5 or were not found.\n"
          ]
        }
      ]
    },
    {
      "cell_type": "code",
      "source": [
        "# data_train폴더의 파일중 PE가 아닌 파일을 출력해줘\n",
        "\n",
        "for index, row in df_train.iterrows():\n",
        "  filename = index\n",
        "  filepath = os.path.join(colab_path, \"data_train\", filename)\n",
        "  try:\n",
        "    pefile.PE(filepath, data=None, fast_load=False)\n",
        "  except pefile.PEFormatError:\n",
        "    print(f\"{filename} is not a PE file\")"
      ],
      "metadata": {
        "colab": {
          "base_uri": "https://localhost:8080/",
          "height": 497
        },
        "id": "gJsZUStoElhQ",
        "outputId": "4ea2ef7a-4b78-46ca-8e92-73beb001c8f1"
      },
      "execution_count": 16,
      "outputs": [
        {
          "output_type": "stream",
          "name": "stdout",
          "text": [
            "512f42a64e7d3c39c1bb2d83b3045193.vir is not a PE file\n",
            "1bb3f80cd53d1ff4726e3162de6e6db5.vir is not a PE file\n",
            "ae58c54ba4fe1def507a9863801e5e4a.vir is not a PE file\n",
            "df5ab3ebf812970ab34accfb030e998c.vir is not a PE file\n",
            "13ad65eb8ef98915c46681135f5f479d.vir is not a PE file\n",
            "bbdfc6c0e78c798395274db31a0b5923.vir is not a PE file\n",
            "3feba3fd7b6a08db84b14a20eb6319dc.vir is not a PE file\n"
          ]
        },
        {
          "output_type": "error",
          "ename": "KeyboardInterrupt",
          "evalue": "",
          "traceback": [
            "\u001b[0;31m---------------------------------------------------------------------------\u001b[0m",
            "\u001b[0;31mKeyboardInterrupt\u001b[0m                         Traceback (most recent call last)",
            "\u001b[0;32m/tmp/ipython-input-16-1921576270.py\u001b[0m in \u001b[0;36m<cell line: 0>\u001b[0;34m()\u001b[0m\n\u001b[1;32m      5\u001b[0m   \u001b[0mfilepath\u001b[0m \u001b[0;34m=\u001b[0m \u001b[0mos\u001b[0m\u001b[0;34m.\u001b[0m\u001b[0mpath\u001b[0m\u001b[0;34m.\u001b[0m\u001b[0mjoin\u001b[0m\u001b[0;34m(\u001b[0m\u001b[0mcolab_path\u001b[0m\u001b[0;34m,\u001b[0m \u001b[0;34m\"data_train\"\u001b[0m\u001b[0;34m,\u001b[0m \u001b[0mfilename\u001b[0m\u001b[0;34m)\u001b[0m\u001b[0;34m\u001b[0m\u001b[0;34m\u001b[0m\u001b[0m\n\u001b[1;32m      6\u001b[0m   \u001b[0;32mtry\u001b[0m\u001b[0;34m:\u001b[0m\u001b[0;34m\u001b[0m\u001b[0;34m\u001b[0m\u001b[0m\n\u001b[0;32m----> 7\u001b[0;31m     \u001b[0mpefile\u001b[0m\u001b[0;34m.\u001b[0m\u001b[0mPE\u001b[0m\u001b[0;34m(\u001b[0m\u001b[0mfilepath\u001b[0m\u001b[0;34m,\u001b[0m \u001b[0mdata\u001b[0m\u001b[0;34m=\u001b[0m\u001b[0;32mNone\u001b[0m\u001b[0;34m,\u001b[0m \u001b[0mfast_load\u001b[0m\u001b[0;34m=\u001b[0m\u001b[0;32mFalse\u001b[0m\u001b[0;34m)\u001b[0m\u001b[0;34m\u001b[0m\u001b[0;34m\u001b[0m\u001b[0m\n\u001b[0m\u001b[1;32m      8\u001b[0m   \u001b[0;32mexcept\u001b[0m \u001b[0mpefile\u001b[0m\u001b[0;34m.\u001b[0m\u001b[0mPEFormatError\u001b[0m\u001b[0;34m:\u001b[0m\u001b[0;34m\u001b[0m\u001b[0;34m\u001b[0m\u001b[0m\n\u001b[1;32m      9\u001b[0m     \u001b[0mprint\u001b[0m\u001b[0;34m(\u001b[0m\u001b[0;34mf\"{filename} is not a PE file\"\u001b[0m\u001b[0;34m)\u001b[0m\u001b[0;34m\u001b[0m\u001b[0;34m\u001b[0m\u001b[0m\n",
            "\u001b[0;32m/usr/local/lib/python3.11/dist-packages/pefile.py\u001b[0m in \u001b[0;36m__init__\u001b[0;34m(self, name, data, fast_load, max_symbol_exports, max_repeated_symbol)\u001b[0m\n\u001b[1;32m   2939\u001b[0m         \u001b[0mfast_load\u001b[0m \u001b[0;34m=\u001b[0m \u001b[0mfast_load\u001b[0m \u001b[0;32mif\u001b[0m \u001b[0mfast_load\u001b[0m \u001b[0;32mis\u001b[0m \u001b[0;32mnot\u001b[0m \u001b[0;32mNone\u001b[0m \u001b[0;32melse\u001b[0m \u001b[0mglobals\u001b[0m\u001b[0;34m(\u001b[0m\u001b[0;34m)\u001b[0m\u001b[0;34m[\u001b[0m\u001b[0;34m\"fast_load\"\u001b[0m\u001b[0;34m]\u001b[0m\u001b[0;34m\u001b[0m\u001b[0;34m\u001b[0m\u001b[0m\n\u001b[1;32m   2940\u001b[0m         \u001b[0;32mtry\u001b[0m\u001b[0;34m:\u001b[0m\u001b[0;34m\u001b[0m\u001b[0;34m\u001b[0m\u001b[0m\n\u001b[0;32m-> 2941\u001b[0;31m             \u001b[0mself\u001b[0m\u001b[0;34m.\u001b[0m\u001b[0m__parse__\u001b[0m\u001b[0;34m(\u001b[0m\u001b[0mname\u001b[0m\u001b[0;34m,\u001b[0m \u001b[0mdata\u001b[0m\u001b[0;34m,\u001b[0m \u001b[0mfast_load\u001b[0m\u001b[0;34m)\u001b[0m\u001b[0;34m\u001b[0m\u001b[0;34m\u001b[0m\u001b[0m\n\u001b[0m\u001b[1;32m   2942\u001b[0m         \u001b[0;32mexcept\u001b[0m\u001b[0;34m:\u001b[0m\u001b[0;34m\u001b[0m\u001b[0;34m\u001b[0m\u001b[0m\n\u001b[1;32m   2943\u001b[0m             \u001b[0mself\u001b[0m\u001b[0;34m.\u001b[0m\u001b[0mclose\u001b[0m\u001b[0;34m(\u001b[0m\u001b[0;34m)\u001b[0m\u001b[0;34m\u001b[0m\u001b[0;34m\u001b[0m\u001b[0m\n",
            "\u001b[0;32m/usr/local/lib/python3.11/dist-packages/pefile.py\u001b[0m in \u001b[0;36m__parse__\u001b[0;34m(self, fname, data, fast_load)\u001b[0m\n\u001b[1;32m   3360\u001b[0m \u001b[0;34m\u001b[0m\u001b[0m\n\u001b[1;32m   3361\u001b[0m         \u001b[0;32mif\u001b[0m \u001b[0;32mnot\u001b[0m \u001b[0mfast_load\u001b[0m\u001b[0;34m:\u001b[0m\u001b[0;34m\u001b[0m\u001b[0;34m\u001b[0m\u001b[0m\n\u001b[0;32m-> 3362\u001b[0;31m             \u001b[0mself\u001b[0m\u001b[0;34m.\u001b[0m\u001b[0mfull_load\u001b[0m\u001b[0;34m(\u001b[0m\u001b[0;34m)\u001b[0m\u001b[0;34m\u001b[0m\u001b[0;34m\u001b[0m\u001b[0m\n\u001b[0m\u001b[1;32m   3363\u001b[0m \u001b[0;34m\u001b[0m\u001b[0m\n\u001b[1;32m   3364\u001b[0m     \u001b[0;32mdef\u001b[0m \u001b[0mparse_rich_header\u001b[0m\u001b[0;34m(\u001b[0m\u001b[0mself\u001b[0m\u001b[0;34m)\u001b[0m\u001b[0;34m:\u001b[0m\u001b[0;34m\u001b[0m\u001b[0;34m\u001b[0m\u001b[0m\n",
            "\u001b[0;32m/usr/local/lib/python3.11/dist-packages/pefile.py\u001b[0m in \u001b[0;36mfull_load\u001b[0;34m(self)\u001b[0m\n\u001b[1;32m   3477\u001b[0m         \"\"\"\n\u001b[1;32m   3478\u001b[0m \u001b[0;34m\u001b[0m\u001b[0m\n\u001b[0;32m-> 3479\u001b[0;31m         \u001b[0mself\u001b[0m\u001b[0;34m.\u001b[0m\u001b[0mparse_data_directories\u001b[0m\u001b[0;34m(\u001b[0m\u001b[0;34m)\u001b[0m\u001b[0;34m\u001b[0m\u001b[0;34m\u001b[0m\u001b[0m\n\u001b[0m\u001b[1;32m   3480\u001b[0m \u001b[0;34m\u001b[0m\u001b[0m\n\u001b[1;32m   3481\u001b[0m         \u001b[0;32mclass\u001b[0m \u001b[0mRichHeader\u001b[0m\u001b[0;34m:\u001b[0m\u001b[0;34m\u001b[0m\u001b[0;34m\u001b[0m\u001b[0m\n",
            "\u001b[0;32m/usr/local/lib/python3.11/dist-packages/pefile.py\u001b[0m in \u001b[0;36mparse_data_directories\u001b[0;34m(self, directories, forwarded_exports_only, import_dllnames_only)\u001b[0m\n\u001b[1;32m   3766\u001b[0m                     \u001b[0;32melse\u001b[0m\u001b[0;34m:\u001b[0m\u001b[0;34m\u001b[0m\u001b[0;34m\u001b[0m\u001b[0m\n\u001b[1;32m   3767\u001b[0m                         \u001b[0;32mtry\u001b[0m\u001b[0;34m:\u001b[0m\u001b[0;34m\u001b[0m\u001b[0;34m\u001b[0m\u001b[0m\n\u001b[0;32m-> 3768\u001b[0;31m                             \u001b[0mvalue\u001b[0m \u001b[0;34m=\u001b[0m \u001b[0mentry\u001b[0m\u001b[0;34m[\u001b[0m\u001b[0;36m1\u001b[0m\u001b[0;34m]\u001b[0m\u001b[0;34m(\u001b[0m\u001b[0mdir_entry\u001b[0m\u001b[0;34m.\u001b[0m\u001b[0mVirtualAddress\u001b[0m\u001b[0;34m,\u001b[0m \u001b[0mdir_entry\u001b[0m\u001b[0;34m.\u001b[0m\u001b[0mSize\u001b[0m\u001b[0;34m)\u001b[0m\u001b[0;34m\u001b[0m\u001b[0;34m\u001b[0m\u001b[0m\n\u001b[0m\u001b[1;32m   3769\u001b[0m                         \u001b[0;32mexcept\u001b[0m \u001b[0mPEFormatError\u001b[0m \u001b[0;32mas\u001b[0m \u001b[0mexcp\u001b[0m\u001b[0;34m:\u001b[0m\u001b[0;34m\u001b[0m\u001b[0;34m\u001b[0m\u001b[0m\n\u001b[1;32m   3770\u001b[0m                             self.__warnings.append(\n",
            "\u001b[0;32m/usr/local/lib/python3.11/dist-packages/pefile.py\u001b[0m in \u001b[0;36mparse_relocations_directory\u001b[0;34m(self, rva, size)\u001b[0m\n\u001b[1;32m   4263\u001b[0m         \u001b[0;34m\"\"\"\"\"\"\u001b[0m\u001b[0;34m\u001b[0m\u001b[0;34m\u001b[0m\u001b[0m\n\u001b[1;32m   4264\u001b[0m \u001b[0;34m\u001b[0m\u001b[0m\n\u001b[0;32m-> 4265\u001b[0;31m         \u001b[0;32mreturn\u001b[0m \u001b[0mself\u001b[0m\u001b[0;34m.\u001b[0m\u001b[0mparse_image_base_relocation_list\u001b[0m\u001b[0;34m(\u001b[0m\u001b[0mrva\u001b[0m\u001b[0;34m,\u001b[0m \u001b[0msize\u001b[0m\u001b[0;34m)\u001b[0m\u001b[0;34m\u001b[0m\u001b[0;34m\u001b[0m\u001b[0m\n\u001b[0m\u001b[1;32m   4266\u001b[0m \u001b[0;34m\u001b[0m\u001b[0m\n\u001b[1;32m   4267\u001b[0m     \u001b[0;32mdef\u001b[0m \u001b[0mparse_image_base_relocation_list\u001b[0m\u001b[0;34m(\u001b[0m\u001b[0mself\u001b[0m\u001b[0;34m,\u001b[0m \u001b[0mrva\u001b[0m\u001b[0;34m,\u001b[0m \u001b[0msize\u001b[0m\u001b[0;34m,\u001b[0m \u001b[0mfmt\u001b[0m\u001b[0;34m=\u001b[0m\u001b[0;32mNone\u001b[0m\u001b[0;34m)\u001b[0m\u001b[0;34m:\u001b[0m\u001b[0;34m\u001b[0m\u001b[0;34m\u001b[0m\u001b[0m\n",
            "\u001b[0;32m/usr/local/lib/python3.11/dist-packages/pefile.py\u001b[0m in \u001b[0;36mparse_image_base_relocation_list\u001b[0;34m(self, rva, size, fmt)\u001b[0m\n\u001b[1;32m   4308\u001b[0m \u001b[0;34m\u001b[0m\u001b[0m\n\u001b[1;32m   4309\u001b[0m             \u001b[0;32mif\u001b[0m \u001b[0mfmt\u001b[0m \u001b[0;32mis\u001b[0m \u001b[0;32mNone\u001b[0m\u001b[0;34m:\u001b[0m\u001b[0;34m\u001b[0m\u001b[0;34m\u001b[0m\u001b[0m\n\u001b[0;32m-> 4310\u001b[0;31m                 reloc_entries = self.parse_relocations(\n\u001b[0m\u001b[1;32m   4311\u001b[0m                     \u001b[0mrva\u001b[0m \u001b[0;34m+\u001b[0m \u001b[0mrlc_size\u001b[0m\u001b[0;34m,\u001b[0m \u001b[0mrlc\u001b[0m\u001b[0;34m.\u001b[0m\u001b[0mVirtualAddress\u001b[0m\u001b[0;34m,\u001b[0m \u001b[0mrlc\u001b[0m\u001b[0;34m.\u001b[0m\u001b[0mSizeOfBlock\u001b[0m \u001b[0;34m-\u001b[0m \u001b[0mrlc_size\u001b[0m\u001b[0;34m\u001b[0m\u001b[0;34m\u001b[0m\u001b[0m\n\u001b[1;32m   4312\u001b[0m                 )\n",
            "\u001b[0;32m/usr/local/lib/python3.11/dist-packages/pefile.py\u001b[0m in \u001b[0;36mparse_relocations\u001b[0;34m(self, data_rva, rva, size)\u001b[0m\n\u001b[1;32m   4337\u001b[0m         \u001b[0moffsets_and_type\u001b[0m \u001b[0;34m=\u001b[0m \u001b[0mset\u001b[0m\u001b[0;34m(\u001b[0m\u001b[0;34m)\u001b[0m\u001b[0;34m\u001b[0m\u001b[0;34m\u001b[0m\u001b[0m\n\u001b[1;32m   4338\u001b[0m         \u001b[0;32mfor\u001b[0m \u001b[0midx\u001b[0m \u001b[0;32min\u001b[0m \u001b[0mrange\u001b[0m\u001b[0;34m(\u001b[0m\u001b[0mlen\u001b[0m\u001b[0;34m(\u001b[0m\u001b[0mdata\u001b[0m\u001b[0;34m)\u001b[0m \u001b[0;34m//\u001b[0m \u001b[0;36m2\u001b[0m\u001b[0;34m)\u001b[0m\u001b[0;34m:\u001b[0m\u001b[0;34m\u001b[0m\u001b[0;34m\u001b[0m\u001b[0m\n\u001b[0;32m-> 4339\u001b[0;31m             entry = self.__unpack_data__(\n\u001b[0m\u001b[1;32m   4340\u001b[0m                 \u001b[0mself\u001b[0m\u001b[0;34m.\u001b[0m\u001b[0m__IMAGE_BASE_RELOCATION_ENTRY_format__\u001b[0m\u001b[0;34m,\u001b[0m\u001b[0;34m\u001b[0m\u001b[0;34m\u001b[0m\u001b[0m\n\u001b[1;32m   4341\u001b[0m                 \u001b[0mdata\u001b[0m\u001b[0;34m[\u001b[0m\u001b[0midx\u001b[0m \u001b[0;34m*\u001b[0m \u001b[0;36m2\u001b[0m \u001b[0;34m:\u001b[0m \u001b[0;34m(\u001b[0m\u001b[0midx\u001b[0m \u001b[0;34m+\u001b[0m \u001b[0;36m1\u001b[0m\u001b[0;34m)\u001b[0m \u001b[0;34m*\u001b[0m \u001b[0;36m2\u001b[0m\u001b[0;34m]\u001b[0m\u001b[0;34m,\u001b[0m\u001b[0;34m\u001b[0m\u001b[0;34m\u001b[0m\u001b[0m\n",
            "\u001b[0;32m/usr/local/lib/python3.11/dist-packages/pefile.py\u001b[0m in \u001b[0;36m__unpack_data__\u001b[0;34m(self, format, data, file_offset)\u001b[0m\n\u001b[1;32m   2976\u001b[0m \u001b[0;34m\u001b[0m\u001b[0m\n\u001b[1;32m   2977\u001b[0m         \u001b[0;32mtry\u001b[0m\u001b[0;34m:\u001b[0m\u001b[0;34m\u001b[0m\u001b[0;34m\u001b[0m\u001b[0m\n\u001b[0;32m-> 2978\u001b[0;31m             \u001b[0mstructure\u001b[0m\u001b[0;34m.\u001b[0m\u001b[0m__unpack__\u001b[0m\u001b[0;34m(\u001b[0m\u001b[0mdata\u001b[0m\u001b[0;34m)\u001b[0m\u001b[0;34m\u001b[0m\u001b[0;34m\u001b[0m\u001b[0m\n\u001b[0m\u001b[1;32m   2979\u001b[0m         \u001b[0;32mexcept\u001b[0m \u001b[0mPEFormatError\u001b[0m \u001b[0;32mas\u001b[0m \u001b[0merr\u001b[0m\u001b[0;34m:\u001b[0m\u001b[0;34m\u001b[0m\u001b[0;34m\u001b[0m\u001b[0m\n\u001b[1;32m   2980\u001b[0m             self.__warnings.append(\n",
            "\u001b[0;32m/usr/local/lib/python3.11/dist-packages/pefile.py\u001b[0m in \u001b[0;36m__unpack__\u001b[0;34m(self, data)\u001b[0m\n\u001b[1;32m   1022\u001b[0m         \u001b[0;32mfor\u001b[0m \u001b[0midx\u001b[0m\u001b[0;34m,\u001b[0m \u001b[0mval\u001b[0m \u001b[0;32min\u001b[0m \u001b[0menumerate\u001b[0m\u001b[0;34m(\u001b[0m\u001b[0mself\u001b[0m\u001b[0;34m.\u001b[0m\u001b[0m__unpacked_data_elms__\u001b[0m\u001b[0;34m)\u001b[0m\u001b[0;34m:\u001b[0m\u001b[0;34m\u001b[0m\u001b[0;34m\u001b[0m\u001b[0m\n\u001b[1;32m   1023\u001b[0m             \u001b[0;32mfor\u001b[0m \u001b[0mkey\u001b[0m \u001b[0;32min\u001b[0m \u001b[0mself\u001b[0m\u001b[0;34m.\u001b[0m\u001b[0m__keys__\u001b[0m\u001b[0;34m[\u001b[0m\u001b[0midx\u001b[0m\u001b[0;34m]\u001b[0m\u001b[0;34m:\u001b[0m\u001b[0;34m\u001b[0m\u001b[0;34m\u001b[0m\u001b[0m\n\u001b[0;32m-> 1024\u001b[0;31m                 \u001b[0msetattr\u001b[0m\u001b[0;34m(\u001b[0m\u001b[0mself\u001b[0m\u001b[0;34m,\u001b[0m \u001b[0mkey\u001b[0m\u001b[0;34m,\u001b[0m \u001b[0mval\u001b[0m\u001b[0;34m)\u001b[0m\u001b[0;34m\u001b[0m\u001b[0;34m\u001b[0m\u001b[0m\n\u001b[0m\u001b[1;32m   1025\u001b[0m \u001b[0;34m\u001b[0m\u001b[0m\n\u001b[1;32m   1026\u001b[0m     \u001b[0;32mdef\u001b[0m \u001b[0m__pack__\u001b[0m\u001b[0;34m(\u001b[0m\u001b[0mself\u001b[0m\u001b[0;34m)\u001b[0m\u001b[0;34m:\u001b[0m\u001b[0;34m\u001b[0m\u001b[0;34m\u001b[0m\u001b[0m\n",
            "\u001b[0;31mKeyboardInterrupt\u001b[0m: "
          ]
        }
      ]
    },
    {
      "cell_type": "markdown",
      "metadata": {
        "id": "zOPZcEaQBx8h"
      },
      "source": [
        "### Feature Engineering\n"
      ]
    },
    {
      "cell_type": "code",
      "execution_count": 17,
      "metadata": {
        "id": "FSnnKc17Bu-w"
      },
      "outputs": [],
      "source": [
        "# Part2에서 추출했던 Feature들 실제파일에 적용\n",
        "# Test데이터에도 동일하게 적용하기 위해 (동일한 Pipeline 구축을 위해) 함수화\n",
        "def feature_extract(df, mode='train'):\n",
        "    df['is_PE'] = True\n",
        "    df['has_error'] = False\n",
        "    df['size'] = np.nan\n",
        "    df['packer'] = None\n",
        "    df['ifc'] = None\n",
        "    df['section_cnt'] = np.nan\n",
        "    df['ts_entropy'] = np.nan\n",
        "    df['rs_size'] = np.nan\n",
        "    df['yara_https'] = None\n",
        "    df['file_deleted_cnt'] = np.nan\n",
        "    df['registry_runkey_modify'] = None\n",
        "\n",
        "    rule = yara.compile(source='rule https {strings: $a = /https:\\S+/ condition: $a}') #https\n",
        "    for idx, hash in enumerate(df.index.values):\n",
        "        if idx % 50 == 0:  #전처리 progress를 확인하기 위해\n",
        "            print(idx)\n",
        "        if mode == 'train':\n",
        "            filename = colab_path + 'data_train/' + hash\n",
        "        else:\n",
        "            filename = colab_path + 'data_test/' + hash\n",
        "        try:\n",
        "            pe = pefile.PE(filename)\n",
        "            # size\n",
        "            df.loc[hash, 'size'] = int(os.path.getsize(filename))\n",
        "            # 파일명은 hash값과 동일하므로 생략한다.\n",
        "            # 파일엔트로피는 섹션 엔트로피로 대체한다.\n",
        "            # 패커 여부 탐지 (PEiD 라이브러리 사용)\n",
        "            packer = subprocess.check_output(['peid', filename]).decode('utf8')\n",
        "            df.loc[hash, 'packer'] = packer\n",
        "            # Image File Characteristics\n",
        "            df.loc[hash, 'ifc'] = hex(pe.FILE_HEADER.Characteristics)\n",
        "            # 섹션 개수\n",
        "            df.loc[hash, 'section_cnt'] = int(len(pe.sections))\n",
        "            # 섹션 엔트로피 & size\n",
        "            for section in pe.sections:\n",
        "                if (section.Name).decode('utf8').rstrip('\\x00') == '.text':\n",
        "                    df.loc[hash, 'ts_entropy'] = section.get_entropy()\n",
        "                if (section.Name).decode('utf8').rstrip('\\x00') == '.rsrc':\n",
        "                    #df.loc[hash, 'rs_size'] = section.SizeOfRawData  #파일 상에서의 section이 차지하는 크기\n",
        "                    df.loc[hash, 'rs_size'] = section.Misc_VirtualSize #메모리 상에서 차지하는 크기\n",
        "            # yara rule\n",
        "            with open(filename, 'rb') as f:\n",
        "                matches = rule.match(data=f.read())\n",
        "                if len(matches) != 0:\n",
        "                    df.loc[hash, 'yara_https'] = True\n",
        "                else:\n",
        "                    df.loc[hash, 'yara_https'] = False\n",
        "            # VT 동적분석 정보 활용\n",
        "            load_path = colab_path + \"vt_json/\" + hash.split('.')[0] + \".json\"  #.vir 을 제외한 파일명 + .json\n",
        "            if os.path.exists(load_path):\n",
        "                with open(load_path) as f:\n",
        "                    vt_json = json.load(f)\n",
        "                valid_vendor_cnt = 0\n",
        "                file_deleted_cnt_total = 0\n",
        "                if vt_json['meta']['count'] != 0:\n",
        "                    df.loc[hash, 'file_deleted_cnt'] = 0\n",
        "                    df.loc[hash, 'registry_runkey_modify'] = False\n",
        "                for vendor_idx in range(vt_json['meta']['count']):\n",
        "                     for (key, value) in (vt_json['data'][vendor_idx]['attributes'].items()):\n",
        "                        if key in ['files_deleted']:\n",
        "                            file_deleted_cnt_total += len(value)\n",
        "                            valid_vendor_cnt += 1\n",
        "                        if key in ['registry_keys_set']:\n",
        "                            for registry in vt_json['data'][vendor_idx]['attributes']['registry_keys_set']:\n",
        "                                registry_seperated = registry['key'].lower().split('\\\\')\n",
        "                                if (('run' in registry_seperated) or ('runonce' in registry_seperated) or ('runservice' in registry_seperated)):\n",
        "                                    df.loc[hash, 'registry_runkey_modify'] = True\n",
        "                if valid_vendor_cnt != 0:\n",
        "                    df.loc[hash, 'file_deleted_cnt'] = file_deleted_cnt_total/valid_vendor_cnt\n",
        "        except pefile.PEFormatError:\n",
        "            df.loc[hash, 'is_PE'] = False\n",
        "        except Exception as e:\n",
        "            print(hash)\n",
        "            print(e)\n",
        "            df.loc[hash, 'has_error'] = True\n",
        "    return df\n"
      ]
    },
    {
      "cell_type": "code",
      "execution_count": 18,
      "metadata": {
        "id": "_XMaehOKDKE3",
        "colab": {
          "base_uri": "https://localhost:8080/"
        },
        "collapsed": true,
        "outputId": "bb8d8a48-7800-41b3-9c2b-afec3de8aa4b"
      },
      "outputs": [
        {
          "output_type": "stream",
          "name": "stdout",
          "text": [
            "0\n",
            "23c7d5b71318951af6c4588414180225.vir\n",
            "Command '['peid', 'gdrive/My Drive/AI보안교육/part3/data_train/23c7d5b71318951af6c4588414180225.vir']' returned non-zero exit status 1.\n",
            "2886842048aa3277ee3e3dcb8995d2e2.vir\n",
            "Command '['peid', 'gdrive/My Drive/AI보안교육/part3/data_train/2886842048aa3277ee3e3dcb8995d2e2.vir']' returned non-zero exit status 1.\n",
            "2e33c858b9063d3df5bf310b0d2b3af7.vir\n",
            "Command '['peid', 'gdrive/My Drive/AI보안교육/part3/data_train/2e33c858b9063d3df5bf310b0d2b3af7.vir']' returned non-zero exit status 1.\n",
            "8234e8f6d153e84211518f8067ae30e5.vir\n",
            "Command '['peid', 'gdrive/My Drive/AI보안교육/part3/data_train/8234e8f6d153e84211518f8067ae30e5.vir']' returned non-zero exit status 1.\n",
            "1e7c0b7424adb6cbe86d05df255e78b8.vir\n",
            "Command '['peid', 'gdrive/My Drive/AI보안교육/part3/data_train/1e7c0b7424adb6cbe86d05df255e78b8.vir']' returned non-zero exit status 1.\n",
            "d7181b31ca65d96629dcf7018b01aee1.vir\n",
            "Command '['peid', 'gdrive/My Drive/AI보안교육/part3/data_train/d7181b31ca65d96629dcf7018b01aee1.vir']' returned non-zero exit status 1.\n",
            "b24a9c0073df9a7cac38f5ea1620debb.vir\n",
            "Command '['peid', 'gdrive/My Drive/AI보안교육/part3/data_train/b24a9c0073df9a7cac38f5ea1620debb.vir']' returned non-zero exit status 1.\n",
            "50\n",
            "436936f2929188c7a855d573c4dca3d0.vir\n",
            "Command '['peid', 'gdrive/My Drive/AI보안교육/part3/data_train/436936f2929188c7a855d573c4dca3d0.vir']' returned non-zero exit status 1.\n",
            "e6269165cda5c80e4680185ce89a3986.vir\n",
            "Command '['peid', 'gdrive/My Drive/AI보안교육/part3/data_train/e6269165cda5c80e4680185ce89a3986.vir']' returned non-zero exit status 1.\n",
            "6bc186bae37cbd5fb3a766708ca96613.vir\n",
            "Command '['peid', 'gdrive/My Drive/AI보안교육/part3/data_train/6bc186bae37cbd5fb3a766708ca96613.vir']' returned non-zero exit status 1.\n",
            "d8e3b2b7a66868234ebba5adce5dd303.vir\n",
            "Command '['peid', 'gdrive/My Drive/AI보안교육/part3/data_train/d8e3b2b7a66868234ebba5adce5dd303.vir']' returned non-zero exit status 1.\n",
            "7f78a12909053cc00ba7a6d2064c3c2f.vir\n",
            "Command '['peid', 'gdrive/My Drive/AI보안교육/part3/data_train/7f78a12909053cc00ba7a6d2064c3c2f.vir']' returned non-zero exit status 1.\n",
            "100\n",
            "cc20b0e7e5f9faa00af012243eb17db6.vir\n",
            "Command '['peid', 'gdrive/My Drive/AI보안교육/part3/data_train/cc20b0e7e5f9faa00af012243eb17db6.vir']' returned non-zero exit status 1.\n",
            "3643a6f434d17ec5c0cb39b373c85dfc.vir\n",
            "Command '['peid', 'gdrive/My Drive/AI보안교육/part3/data_train/3643a6f434d17ec5c0cb39b373c85dfc.vir']' returned non-zero exit status 1.\n",
            "dee42ff58e6bba4a61ff855b333e6fa1.vir\n",
            "Command '['peid', 'gdrive/My Drive/AI보안교육/part3/data_train/dee42ff58e6bba4a61ff855b333e6fa1.vir']' returned non-zero exit status 1.\n",
            "589742e8ce9abcee883db55d134991d3.vir\n",
            "Command '['peid', 'gdrive/My Drive/AI보안교육/part3/data_train/589742e8ce9abcee883db55d134991d3.vir']' returned non-zero exit status 1.\n",
            "e6a9d01a397e8a78f6ad3d57e8be10f3.vir\n",
            "Command '['peid', 'gdrive/My Drive/AI보안교육/part3/data_train/e6a9d01a397e8a78f6ad3d57e8be10f3.vir']' returned non-zero exit status 1.\n",
            "221c34f4a72b2ef643b334aec3fd24b9.vir\n",
            "Command '['peid', 'gdrive/My Drive/AI보안교육/part3/data_train/221c34f4a72b2ef643b334aec3fd24b9.vir']' returned non-zero exit status 1.\n",
            "150\n",
            "9aadb93189e285c23a057da07986ff69.vir\n",
            "Command '['peid', 'gdrive/My Drive/AI보안교육/part3/data_train/9aadb93189e285c23a057da07986ff69.vir']' returned non-zero exit status 1.\n",
            "d63f9dde53b585060ec56bde2d98994b.vir\n",
            "Command '['peid', 'gdrive/My Drive/AI보안교육/part3/data_train/d63f9dde53b585060ec56bde2d98994b.vir']' returned non-zero exit status 1.\n",
            "e0b587b16b28c4a80f32483af4bae521.vir\n",
            "Command '['peid', 'gdrive/My Drive/AI보안교육/part3/data_train/e0b587b16b28c4a80f32483af4bae521.vir']' returned non-zero exit status 1.\n",
            "b07477c5eeaa0856897f7dd1e7815db3.vir\n",
            "Command '['peid', 'gdrive/My Drive/AI보안교육/part3/data_train/b07477c5eeaa0856897f7dd1e7815db3.vir']' returned non-zero exit status 1.\n",
            "a5675d509dc456f57038d6b6daebc0d9.vir\n",
            "Command '['peid', 'gdrive/My Drive/AI보안교육/part3/data_train/a5675d509dc456f57038d6b6daebc0d9.vir']' returned non-zero exit status 1.\n",
            "8d7e697675b0ce898dda69ba72d1cae8.vir\n",
            "Command '['peid', 'gdrive/My Drive/AI보안교육/part3/data_train/8d7e697675b0ce898dda69ba72d1cae8.vir']' returned non-zero exit status 1.\n",
            "200\n",
            "5bed8756807dbd9e8de54c8d86a604a7.vir\n",
            "Command '['peid', 'gdrive/My Drive/AI보안교육/part3/data_train/5bed8756807dbd9e8de54c8d86a604a7.vir']' returned non-zero exit status 1.\n",
            "74324481250e2517265c1fe4d2ea05e7.vir\n",
            "Command '['peid', 'gdrive/My Drive/AI보안교육/part3/data_train/74324481250e2517265c1fe4d2ea05e7.vir']' returned non-zero exit status 1.\n",
            "734544355940b4627efa65714d704369.vir\n",
            "Command '['peid', 'gdrive/My Drive/AI보안교육/part3/data_train/734544355940b4627efa65714d704369.vir']' returned non-zero exit status 1.\n",
            "18e0924a075d968e25fdfebb89011697.vir\n",
            "Command '['peid', 'gdrive/My Drive/AI보안교육/part3/data_train/18e0924a075d968e25fdfebb89011697.vir']' returned non-zero exit status 1.\n",
            "aaebc926a184a8c9bf58ee803de7a5a8.vir\n",
            "Command '['peid', 'gdrive/My Drive/AI보안교육/part3/data_train/aaebc926a184a8c9bf58ee803de7a5a8.vir']' returned non-zero exit status 1.\n",
            "6c6bd841b245d41e62c7d1ef1c0a8059.vir\n",
            "Command '['peid', 'gdrive/My Drive/AI보안교육/part3/data_train/6c6bd841b245d41e62c7d1ef1c0a8059.vir']' returned non-zero exit status 1.\n",
            "02e62d463b01e1be24ef662ad9250022.vir\n",
            "Command '['peid', 'gdrive/My Drive/AI보안교육/part3/data_train/02e62d463b01e1be24ef662ad9250022.vir']' returned non-zero exit status 1.\n",
            "20df07233fef7d8312678a584f48da96.vir\n",
            "Command '['peid', 'gdrive/My Drive/AI보안교육/part3/data_train/20df07233fef7d8312678a584f48da96.vir']' returned non-zero exit status 1.\n",
            "250\n",
            "2154d081290ea39132ee2ccec4e00cc5.vir\n",
            "Command '['peid', 'gdrive/My Drive/AI보안교육/part3/data_train/2154d081290ea39132ee2ccec4e00cc5.vir']' returned non-zero exit status 1.\n",
            "e352099e10d4188fdd84e60085ecb9ec.vir\n",
            "Command '['peid', 'gdrive/My Drive/AI보안교육/part3/data_train/e352099e10d4188fdd84e60085ecb9ec.vir']' returned non-zero exit status 1.\n",
            "ad6a412961c191ad33b385da80231289.vir\n",
            "'utf-8' codec can't decode byte 0xe5 in position 0: invalid continuation byte\n",
            "cb641d3ff6225b580d85f7103aaacff6.vir\n",
            "Command '['peid', 'gdrive/My Drive/AI보안교육/part3/data_train/cb641d3ff6225b580d85f7103aaacff6.vir']' returned non-zero exit status 1.\n",
            "55dc38792b26c1c3d2a027e6f02d97d0.vir\n",
            "Command '['peid', 'gdrive/My Drive/AI보안교육/part3/data_train/55dc38792b26c1c3d2a027e6f02d97d0.vir']' returned non-zero exit status 1.\n",
            "8b7177d34c988cf29c2eb7bb095659a9.vir\n",
            "Command '['peid', 'gdrive/My Drive/AI보안교육/part3/data_train/8b7177d34c988cf29c2eb7bb095659a9.vir']' returned non-zero exit status 1.\n",
            "300\n",
            "9d9b2fdb8dbb7f2d76f9f8f9c6672872.vir\n",
            "Command '['peid', 'gdrive/My Drive/AI보안교육/part3/data_train/9d9b2fdb8dbb7f2d76f9f8f9c6672872.vir']' returned non-zero exit status 1.\n",
            "3b99ade1e311b240f4ae61e16a225dec.vir\n",
            "Command '['peid', 'gdrive/My Drive/AI보안교육/part3/data_train/3b99ade1e311b240f4ae61e16a225dec.vir']' returned non-zero exit status 1.\n",
            "f69724f13685480d0d54264edf87d6fa.vir\n",
            "Command '['peid', 'gdrive/My Drive/AI보안교육/part3/data_train/f69724f13685480d0d54264edf87d6fa.vir']' returned non-zero exit status 1.\n",
            "350\n",
            "52966390222c628ad38ea8e0a858a830.vir\n",
            "Command '['peid', 'gdrive/My Drive/AI보안교육/part3/data_train/52966390222c628ad38ea8e0a858a830.vir']' returned non-zero exit status 1.\n",
            "6ccfaa1cd670b4cce4a948c8463a3a9d.vir\n",
            "Command '['peid', 'gdrive/My Drive/AI보안교육/part3/data_train/6ccfaa1cd670b4cce4a948c8463a3a9d.vir']' returned non-zero exit status 1.\n",
            "122f726f5274e5acf268b88933fad0bb.vir\n",
            "Command '['peid', 'gdrive/My Drive/AI보안교육/part3/data_train/122f726f5274e5acf268b88933fad0bb.vir']' returned non-zero exit status 1.\n",
            "72ce8122f02055b929d0397e980fa09e.vir\n",
            "Command '['peid', 'gdrive/My Drive/AI보안교육/part3/data_train/72ce8122f02055b929d0397e980fa09e.vir']' returned non-zero exit status 1.\n",
            "400\n",
            "6c9a446a40d8687b90fd4b5dd8a6f4f5.vir\n",
            "Command '['peid', 'gdrive/My Drive/AI보안교육/part3/data_train/6c9a446a40d8687b90fd4b5dd8a6f4f5.vir']' returned non-zero exit status 1.\n",
            "77f9fbdd98afc3d3f155f6b4f53c7f58.vir\n",
            "Command '['peid', 'gdrive/My Drive/AI보안교육/part3/data_train/77f9fbdd98afc3d3f155f6b4f53c7f58.vir']' returned non-zero exit status 1.\n",
            "0564bda5ee614cbfbde0fca630fa0a92.vir\n",
            "Command '['peid', 'gdrive/My Drive/AI보안교육/part3/data_train/0564bda5ee614cbfbde0fca630fa0a92.vir']' returned non-zero exit status 1.\n",
            "26ad479442b359c81a1b11e9a3e2b745.vir\n",
            "Command '['peid', 'gdrive/My Drive/AI보안교육/part3/data_train/26ad479442b359c81a1b11e9a3e2b745.vir']' returned non-zero exit status 1.\n",
            "793b4e4cb49293c82d22654fdc5e9cb3.vir\n",
            "Command '['peid', 'gdrive/My Drive/AI보안교육/part3/data_train/793b4e4cb49293c82d22654fdc5e9cb3.vir']' returned non-zero exit status 1.\n",
            "450\n",
            "fe11669a1e803b7a985e5821e622f048.vir\n",
            "Command '['peid', 'gdrive/My Drive/AI보안교육/part3/data_train/fe11669a1e803b7a985e5821e622f048.vir']' returned non-zero exit status 1.\n",
            "d10efaf72f7be0eae7a3e7e6ca1ea674.vir\n",
            "Command '['peid', 'gdrive/My Drive/AI보안교육/part3/data_train/d10efaf72f7be0eae7a3e7e6ca1ea674.vir']' returned non-zero exit status 1.\n",
            "a0a90829f64bcbd274d164f8a2f439ef.vir\n",
            "Command '['peid', 'gdrive/My Drive/AI보안교육/part3/data_train/a0a90829f64bcbd274d164f8a2f439ef.vir']' returned non-zero exit status 1.\n",
            "9f39611cb5abe300626d54f05f9df994.vir\n",
            "Command '['peid', 'gdrive/My Drive/AI보안교육/part3/data_train/9f39611cb5abe300626d54f05f9df994.vir']' returned non-zero exit status 1.\n",
            "890607e5703567bd984b080c461e3d0a.vir\n",
            "Command '['peid', 'gdrive/My Drive/AI보안교육/part3/data_train/890607e5703567bd984b080c461e3d0a.vir']' returned non-zero exit status 1.\n",
            "500\n",
            "f9fcc6a777a810e07274f9f405dd56cd.vir\n",
            "Command '['peid', 'gdrive/My Drive/AI보안교육/part3/data_train/f9fcc6a777a810e07274f9f405dd56cd.vir']' returned non-zero exit status 1.\n",
            "633e2c1e1ea7fc5af47662bb9041da90.vir\n",
            "Command '['peid', 'gdrive/My Drive/AI보안교육/part3/data_train/633e2c1e1ea7fc5af47662bb9041da90.vir']' returned non-zero exit status 1.\n",
            "731ff101d88d5f2216b5c8e5eb839138.vir\n",
            "Command '['peid', 'gdrive/My Drive/AI보안교육/part3/data_train/731ff101d88d5f2216b5c8e5eb839138.vir']' returned non-zero exit status 1.\n",
            "550\n",
            "b544c5446b0ed15d7662619dd234c1e6.vir\n",
            "Command '['peid', 'gdrive/My Drive/AI보안교육/part3/data_train/b544c5446b0ed15d7662619dd234c1e6.vir']' returned non-zero exit status 1.\n",
            "ea8d207138f0122a48072c6a98086881.vir\n",
            "Command '['peid', 'gdrive/My Drive/AI보안교육/part3/data_train/ea8d207138f0122a48072c6a98086881.vir']' returned non-zero exit status 1.\n",
            "836df7f43c2b58e2103e3fc067d94dbe.vir\n",
            "Command '['peid', 'gdrive/My Drive/AI보안교육/part3/data_train/836df7f43c2b58e2103e3fc067d94dbe.vir']' returned non-zero exit status 1.\n",
            "ebcdc99ed1eefc00e4ed1e7227b77f16.vir\n",
            "Command '['peid', 'gdrive/My Drive/AI보안교육/part3/data_train/ebcdc99ed1eefc00e4ed1e7227b77f16.vir']' returned non-zero exit status 1.\n",
            "600\n",
            "909dd40813daf53401a4f19c40b216aa.vir\n",
            "Command '['peid', 'gdrive/My Drive/AI보안교육/part3/data_train/909dd40813daf53401a4f19c40b216aa.vir']' returned non-zero exit status 1.\n",
            "6a30d56bd974364dcd9989524696d256.vir\n",
            "Command '['peid', 'gdrive/My Drive/AI보안교육/part3/data_train/6a30d56bd974364dcd9989524696d256.vir']' returned non-zero exit status 1.\n",
            "7e63d8b8f47f37f1f71b003607aae109.vir\n",
            "Command '['peid', 'gdrive/My Drive/AI보안교육/part3/data_train/7e63d8b8f47f37f1f71b003607aae109.vir']' returned non-zero exit status 1.\n",
            "b896352a2ffad450723887bc9fd97ecf.vir\n",
            "Command '['peid', 'gdrive/My Drive/AI보안교육/part3/data_train/b896352a2ffad450723887bc9fd97ecf.vir']' returned non-zero exit status 1.\n",
            "6ddc29fa8f6735e194f456cf137ec421.vir\n",
            "Command '['peid', 'gdrive/My Drive/AI보안교육/part3/data_train/6ddc29fa8f6735e194f456cf137ec421.vir']' returned non-zero exit status 1.\n",
            "650\n",
            "65f7813dbed0dd73dcae6a42fab8bd6e.vir\n",
            "Command '['peid', 'gdrive/My Drive/AI보안교육/part3/data_train/65f7813dbed0dd73dcae6a42fab8bd6e.vir']' returned non-zero exit status 1.\n",
            "e1f1fe90eac1c55a466f41f4bf3d7ad4.vir\n",
            "Command '['peid', 'gdrive/My Drive/AI보안교육/part3/data_train/e1f1fe90eac1c55a466f41f4bf3d7ad4.vir']' returned non-zero exit status 1.\n",
            "5a55a4183bf360dee59ee560e2ebf1a1.vir\n",
            "Command '['peid', 'gdrive/My Drive/AI보안교육/part3/data_train/5a55a4183bf360dee59ee560e2ebf1a1.vir']' returned non-zero exit status 1.\n",
            "73cf23088fb6c667b815204dc624015d.vir\n",
            "Command '['peid', 'gdrive/My Drive/AI보안교육/part3/data_train/73cf23088fb6c667b815204dc624015d.vir']' returned non-zero exit status 1.\n",
            "700\n",
            "59b1247f6f9d93463a4e5baefcd8468c.vir\n",
            "Command '['peid', 'gdrive/My Drive/AI보안교육/part3/data_train/59b1247f6f9d93463a4e5baefcd8468c.vir']' returned non-zero exit status 1.\n",
            "1e16e4e5ffad77e0bfecf8942de0560a.vir\n",
            "Command '['peid', 'gdrive/My Drive/AI보안교육/part3/data_train/1e16e4e5ffad77e0bfecf8942de0560a.vir']' returned non-zero exit status 1.\n",
            "fcfccdbad2526bc8672cedfbf197dcb5.vir\n",
            "Command '['peid', 'gdrive/My Drive/AI보안교육/part3/data_train/fcfccdbad2526bc8672cedfbf197dcb5.vir']' returned non-zero exit status 1.\n",
            "0c3d3ea8e2854bd44dd0069addb7339e.vir\n",
            "Command '['peid', 'gdrive/My Drive/AI보안교육/part3/data_train/0c3d3ea8e2854bd44dd0069addb7339e.vir']' returned non-zero exit status 1.\n",
            "750\n",
            "58fea7076fed783937ad52075bca0250.vir\n",
            "Command '['peid', 'gdrive/My Drive/AI보안교육/part3/data_train/58fea7076fed783937ad52075bca0250.vir']' returned non-zero exit status 1.\n",
            "94c562ac173efff99c741a43ca24ba68.vir\n",
            "Command '['peid', 'gdrive/My Drive/AI보안교육/part3/data_train/94c562ac173efff99c741a43ca24ba68.vir']' returned non-zero exit status 1.\n",
            "4014881ddef5f94d2e125d4699f328a3.vir\n",
            "Command '['peid', 'gdrive/My Drive/AI보안교육/part3/data_train/4014881ddef5f94d2e125d4699f328a3.vir']' returned non-zero exit status 1.\n",
            "778eb4f895dd4958685f0fa55755d96e.vir\n",
            "Command '['peid', 'gdrive/My Drive/AI보안교육/part3/data_train/778eb4f895dd4958685f0fa55755d96e.vir']' returned non-zero exit status 1.\n",
            "8b492a4b8b94be4260e1fc841d441450.vir\n",
            "Command '['peid', 'gdrive/My Drive/AI보안교육/part3/data_train/8b492a4b8b94be4260e1fc841d441450.vir']' returned non-zero exit status 1.\n",
            "bf7dfd24b8376d88b10562c095fee34f.vir\n",
            "Command '['peid', 'gdrive/My Drive/AI보안교육/part3/data_train/bf7dfd24b8376d88b10562c095fee34f.vir']' returned non-zero exit status 1.\n",
            "800\n",
            "16bbc0ab3383abbfe27625b5bd9da893.vir\n",
            "Command '['peid', 'gdrive/My Drive/AI보안교육/part3/data_train/16bbc0ab3383abbfe27625b5bd9da893.vir']' returned non-zero exit status 1.\n",
            "a2ae3aa08b5779e41f7e98a625e77002.vir\n",
            "Command '['peid', 'gdrive/My Drive/AI보안교육/part3/data_train/a2ae3aa08b5779e41f7e98a625e77002.vir']' returned non-zero exit status 1.\n",
            "b14700b7824b50432f959e67cd3be4a7.vir\n",
            "Command '['peid', 'gdrive/My Drive/AI보안교육/part3/data_train/b14700b7824b50432f959e67cd3be4a7.vir']' returned non-zero exit status 1.\n",
            "53960f1dc135196e1c25f2933448c206.vir\n",
            "Command '['peid', 'gdrive/My Drive/AI보안교육/part3/data_train/53960f1dc135196e1c25f2933448c206.vir']' returned non-zero exit status 1.\n",
            "82d49b3bdd731296e611d665169b4ae0.vir\n",
            "Command '['peid', 'gdrive/My Drive/AI보안교육/part3/data_train/82d49b3bdd731296e611d665169b4ae0.vir']' returned non-zero exit status 1.\n",
            "850\n",
            "ef0a8b8871a07db7baca4dc340f725a0.vir\n",
            "Command '['peid', 'gdrive/My Drive/AI보안교육/part3/data_train/ef0a8b8871a07db7baca4dc340f725a0.vir']' returned non-zero exit status 1.\n",
            "89d9646a3f421c31c0807fbcd51b9094.vir\n",
            "Command '['peid', 'gdrive/My Drive/AI보안교육/part3/data_train/89d9646a3f421c31c0807fbcd51b9094.vir']' returned non-zero exit status 1.\n",
            "ac107851e098fa3006d5a8015c029938.vir\n",
            "Command '['peid', 'gdrive/My Drive/AI보안교육/part3/data_train/ac107851e098fa3006d5a8015c029938.vir']' returned non-zero exit status 1.\n",
            "900\n",
            "adf189701f3c3b6b0e2c74f65eb85b86.vir\n",
            "Command '['peid', 'gdrive/My Drive/AI보안교육/part3/data_train/adf189701f3c3b6b0e2c74f65eb85b86.vir']' returned non-zero exit status 1.\n",
            "9a8f7dfdb92e17f9bf52e9db62aa7815.vir\n",
            "Command '['peid', 'gdrive/My Drive/AI보안교육/part3/data_train/9a8f7dfdb92e17f9bf52e9db62aa7815.vir']' returned non-zero exit status 1.\n",
            "01027217b75ffcbcf4d0e852c8e8f043.vir\n",
            "Command '['peid', 'gdrive/My Drive/AI보안교육/part3/data_train/01027217b75ffcbcf4d0e852c8e8f043.vir']' returned non-zero exit status 1.\n",
            "d5f1171f505a472668866828c64cfeda.vir\n",
            "Command '['peid', 'gdrive/My Drive/AI보안교육/part3/data_train/d5f1171f505a472668866828c64cfeda.vir']' returned non-zero exit status 1.\n",
            "b9911e53b9db2a97a6bf0b885d254746.vir\n",
            "Command '['peid', 'gdrive/My Drive/AI보안교육/part3/data_train/b9911e53b9db2a97a6bf0b885d254746.vir']' returned non-zero exit status 1.\n",
            "ade5e913fb70460e85c3ae2d8ce04ff1.vir\n",
            "Command '['peid', 'gdrive/My Drive/AI보안교육/part3/data_train/ade5e913fb70460e85c3ae2d8ce04ff1.vir']' returned non-zero exit status 1.\n",
            "950\n",
            "d9316d9a16bfce42dc2c16be3788e6c3.vir\n",
            "Command '['peid', 'gdrive/My Drive/AI보안교육/part3/data_train/d9316d9a16bfce42dc2c16be3788e6c3.vir']' returned non-zero exit status 1.\n",
            "8d375636fb2d89a88f24a89ca8cd71c1.vir\n",
            "Command '['peid', 'gdrive/My Drive/AI보안교육/part3/data_train/8d375636fb2d89a88f24a89ca8cd71c1.vir']' returned non-zero exit status 1.\n",
            "ac5fa64b5c3ecafd640b6248de77406e.vir\n",
            "Command '['peid', 'gdrive/My Drive/AI보안교육/part3/data_train/ac5fa64b5c3ecafd640b6248de77406e.vir']' returned non-zero exit status 1.\n",
            "3ae4459be68569746f98ea02983fc024.vir\n",
            "Command '['peid', 'gdrive/My Drive/AI보안교육/part3/data_train/3ae4459be68569746f98ea02983fc024.vir']' returned non-zero exit status 1.\n",
            "f3bf38b27d8a472be11cb2967fcea3ff.vir\n",
            "Command '['peid', 'gdrive/My Drive/AI보안교육/part3/data_train/f3bf38b27d8a472be11cb2967fcea3ff.vir']' returned non-zero exit status 1.\n",
            "CPU times: user 2min 13s, sys: 3.69 s, total: 2min 16s\n",
            "Wall time: 12min 45s\n"
          ]
        }
      ],
      "source": [
        "%%time\n",
        "df_train = feature_extract(df_train, 'train')"
      ]
    },
    {
      "cell_type": "code",
      "execution_count": 19,
      "metadata": {
        "id": "blP1c18wl1xo",
        "colab": {
          "base_uri": "https://localhost:8080/",
          "height": 509
        },
        "outputId": "b01fce97-7132-4816-a579-e1b1236b1fc7"
      },
      "outputs": [
        {
          "output_type": "execute_result",
          "data": {
            "text/plain": [
              "                                      index_orig  target  is_PE  has_error  \\\n",
              "hash                                                                         \n",
              "ac282b5c526acab44530c0a995d4e23a.vir        6710       1   True      False   \n",
              "7a44a4bf7c9a7f332901e6a792e9c8b5.vir        4725       0   True      False   \n",
              "1581f524dec2cc3ba8bef37f3ab3d1fd.vir         872       0   True      False   \n",
              "15166c91b32b49734932ccae17426f16.vir         862       1   True      False   \n",
              "cba8e5374081db7da8d45fa98359d87f.vir        7976       1   True      False   \n",
              "...                                          ...     ...    ...        ...   \n",
              "e638f5c2fc248ef94a75bbca6923cb57.vir        9004       0   True      False   \n",
              "0a9dea1605ae2f00f5e3ab2b41b4548d.vir         419       1   True      False   \n",
              "f3bf38b27d8a472be11cb2967fcea3ff.vir        9527       0   True       True   \n",
              "7cba14a7de16383e7daba7e7f7c40f5a.vir        4811       0   True      False   \n",
              "6f7ad084c602a3056d4c4cca1f10f407.vir        4325       1   True      False   \n",
              "\n",
              "                                           size  \\\n",
              "hash                                              \n",
              "ac282b5c526acab44530c0a995d4e23a.vir   177189.0   \n",
              "7a44a4bf7c9a7f332901e6a792e9c8b5.vir    10244.0   \n",
              "1581f524dec2cc3ba8bef37f3ab3d1fd.vir   720900.0   \n",
              "15166c91b32b49734932ccae17426f16.vir  1350176.0   \n",
              "cba8e5374081db7da8d45fa98359d87f.vir  4035529.0   \n",
              "...                                         ...   \n",
              "e638f5c2fc248ef94a75bbca6923cb57.vir  1866612.0   \n",
              "0a9dea1605ae2f00f5e3ab2b41b4548d.vir   513288.0   \n",
              "f3bf38b27d8a472be11cb2967fcea3ff.vir   140776.0   \n",
              "7cba14a7de16383e7daba7e7f7c40f5a.vir    55516.0   \n",
              "6f7ad084c602a3056d4c4cca1f10f407.vir   310801.0   \n",
              "\n",
              "                                                                                 packer  \\\n",
              "hash                                                                                      \n",
              "ac282b5c526acab44530c0a995d4e23a.vir                           Microsoft Visual Basic\\n   \n",
              "7a44a4bf7c9a7f332901e6a792e9c8b5.vir             Microsoft Visual C++\\nVisual C++ EXE\\n   \n",
              "1581f524dec2cc3ba8bef37f3ab3d1fd.vir                    MSLRH\\nUPX\\nUPX (Delphi) Stub\\n   \n",
              "15166c91b32b49734932ccae17426f16.vir           Petite sign ASL for DLL - *old packer \\n   \n",
              "cba8e5374081db7da8d45fa98359d87f.vir  PECompact\\nPECompact\\nPeCompact DLL\\nPECompact...   \n",
              "...                                                                                 ...   \n",
              "e638f5c2fc248ef94a75bbca6923cb57.vir       VMProtect\\nASProtect\\nASProtect\\nASProtect\\n   \n",
              "0a9dea1605ae2f00f5e3ab2b41b4548d.vir           Petite sign ASL for DLL - *old packer \\n   \n",
              "f3bf38b27d8a472be11cb2967fcea3ff.vir                                               None   \n",
              "7cba14a7de16383e7daba7e7f7c40f5a.vir                 Microsoft Visual C# / Basic .NET\\n   \n",
              "6f7ad084c602a3056d4c4cca1f10f407.vir  Microsoft Visual C++\\nVC8\\nMicrosoft Visual C++\\n   \n",
              "\n",
              "                                         ifc  section_cnt  ts_entropy  \\\n",
              "hash                                                                    \n",
              "ac282b5c526acab44530c0a995d4e23a.vir   0x10f          3.0    5.972551   \n",
              "7a44a4bf7c9a7f332901e6a792e9c8b5.vir   0x10f          3.0    5.609966   \n",
              "1581f524dec2cc3ba8bef37f3ab3d1fd.vir  0x818f          3.0         NaN   \n",
              "15166c91b32b49734932ccae17426f16.vir   0x10f          3.0         NaN   \n",
              "cba8e5374081db7da8d45fa98359d87f.vir   0x10f          2.0    7.972003   \n",
              "...                                      ...          ...         ...   \n",
              "e638f5c2fc248ef94a75bbca6923cb57.vir   0x103          7.0         NaN   \n",
              "0a9dea1605ae2f00f5e3ab2b41b4548d.vir   0x10f          3.0         NaN   \n",
              "f3bf38b27d8a472be11cb2967fcea3ff.vir    None          NaN         NaN   \n",
              "7cba14a7de16383e7daba7e7f7c40f5a.vir  0x2022          3.0    5.927064   \n",
              "6f7ad084c602a3056d4c4cca1f10f407.vir   0x102          6.0    5.770574   \n",
              "\n",
              "                                        rs_size yara_https  file_deleted_cnt  \\\n",
              "hash                                                                           \n",
              "ac282b5c526acab44530c0a995d4e23a.vir     1504.0      False               NaN   \n",
              "7a44a4bf7c9a7f332901e6a792e9c8b5.vir        NaN      False               0.0   \n",
              "1581f524dec2cc3ba8bef37f3ab3d1fd.vir    45126.0      False               0.0   \n",
              "15166c91b32b49734932ccae17426f16.vir    81920.0      False               0.0   \n",
              "cba8e5374081db7da8d45fa98359d87f.vir     8192.0       True               0.0   \n",
              "...                                         ...        ...               ...   \n",
              "e638f5c2fc248ef94a75bbca6923cb57.vir  5492736.0       True               0.0   \n",
              "0a9dea1605ae2f00f5e3ab2b41b4548d.vir    81920.0      False               0.0   \n",
              "f3bf38b27d8a472be11cb2967fcea3ff.vir        NaN       None               NaN   \n",
              "7cba14a7de16383e7daba7e7f7c40f5a.vir     1256.0      False               NaN   \n",
              "6f7ad084c602a3056d4c4cca1f10f407.vir   148264.0      False               2.0   \n",
              "\n",
              "                                     registry_runkey_modify  \n",
              "hash                                                         \n",
              "ac282b5c526acab44530c0a995d4e23a.vir                   None  \n",
              "7a44a4bf7c9a7f332901e6a792e9c8b5.vir                  False  \n",
              "1581f524dec2cc3ba8bef37f3ab3d1fd.vir                  False  \n",
              "15166c91b32b49734932ccae17426f16.vir                  False  \n",
              "cba8e5374081db7da8d45fa98359d87f.vir                  False  \n",
              "...                                                     ...  \n",
              "e638f5c2fc248ef94a75bbca6923cb57.vir                  False  \n",
              "0a9dea1605ae2f00f5e3ab2b41b4548d.vir                  False  \n",
              "f3bf38b27d8a472be11cb2967fcea3ff.vir                   None  \n",
              "7cba14a7de16383e7daba7e7f7c40f5a.vir                   None  \n",
              "6f7ad084c602a3056d4c4cca1f10f407.vir                   True  \n",
              "\n",
              "[1000 rows x 13 columns]"
            ],
            "text/html": [
              "\n",
              "  <div id=\"df-106e7b58-34cb-4ffd-b16f-2542065f2879\" class=\"colab-df-container\">\n",
              "    <div>\n",
              "<style scoped>\n",
              "    .dataframe tbody tr th:only-of-type {\n",
              "        vertical-align: middle;\n",
              "    }\n",
              "\n",
              "    .dataframe tbody tr th {\n",
              "        vertical-align: top;\n",
              "    }\n",
              "\n",
              "    .dataframe thead th {\n",
              "        text-align: right;\n",
              "    }\n",
              "</style>\n",
              "<table border=\"1\" class=\"dataframe\">\n",
              "  <thead>\n",
              "    <tr style=\"text-align: right;\">\n",
              "      <th></th>\n",
              "      <th>index_orig</th>\n",
              "      <th>target</th>\n",
              "      <th>is_PE</th>\n",
              "      <th>has_error</th>\n",
              "      <th>size</th>\n",
              "      <th>packer</th>\n",
              "      <th>ifc</th>\n",
              "      <th>section_cnt</th>\n",
              "      <th>ts_entropy</th>\n",
              "      <th>rs_size</th>\n",
              "      <th>yara_https</th>\n",
              "      <th>file_deleted_cnt</th>\n",
              "      <th>registry_runkey_modify</th>\n",
              "    </tr>\n",
              "    <tr>\n",
              "      <th>hash</th>\n",
              "      <th></th>\n",
              "      <th></th>\n",
              "      <th></th>\n",
              "      <th></th>\n",
              "      <th></th>\n",
              "      <th></th>\n",
              "      <th></th>\n",
              "      <th></th>\n",
              "      <th></th>\n",
              "      <th></th>\n",
              "      <th></th>\n",
              "      <th></th>\n",
              "      <th></th>\n",
              "    </tr>\n",
              "  </thead>\n",
              "  <tbody>\n",
              "    <tr>\n",
              "      <th>ac282b5c526acab44530c0a995d4e23a.vir</th>\n",
              "      <td>6710</td>\n",
              "      <td>1</td>\n",
              "      <td>True</td>\n",
              "      <td>False</td>\n",
              "      <td>177189.0</td>\n",
              "      <td>Microsoft Visual Basic\\n</td>\n",
              "      <td>0x10f</td>\n",
              "      <td>3.0</td>\n",
              "      <td>5.972551</td>\n",
              "      <td>1504.0</td>\n",
              "      <td>False</td>\n",
              "      <td>NaN</td>\n",
              "      <td>None</td>\n",
              "    </tr>\n",
              "    <tr>\n",
              "      <th>7a44a4bf7c9a7f332901e6a792e9c8b5.vir</th>\n",
              "      <td>4725</td>\n",
              "      <td>0</td>\n",
              "      <td>True</td>\n",
              "      <td>False</td>\n",
              "      <td>10244.0</td>\n",
              "      <td>Microsoft Visual C++\\nVisual C++ EXE\\n</td>\n",
              "      <td>0x10f</td>\n",
              "      <td>3.0</td>\n",
              "      <td>5.609966</td>\n",
              "      <td>NaN</td>\n",
              "      <td>False</td>\n",
              "      <td>0.0</td>\n",
              "      <td>False</td>\n",
              "    </tr>\n",
              "    <tr>\n",
              "      <th>1581f524dec2cc3ba8bef37f3ab3d1fd.vir</th>\n",
              "      <td>872</td>\n",
              "      <td>0</td>\n",
              "      <td>True</td>\n",
              "      <td>False</td>\n",
              "      <td>720900.0</td>\n",
              "      <td>MSLRH\\nUPX\\nUPX (Delphi) Stub\\n</td>\n",
              "      <td>0x818f</td>\n",
              "      <td>3.0</td>\n",
              "      <td>NaN</td>\n",
              "      <td>45126.0</td>\n",
              "      <td>False</td>\n",
              "      <td>0.0</td>\n",
              "      <td>False</td>\n",
              "    </tr>\n",
              "    <tr>\n",
              "      <th>15166c91b32b49734932ccae17426f16.vir</th>\n",
              "      <td>862</td>\n",
              "      <td>1</td>\n",
              "      <td>True</td>\n",
              "      <td>False</td>\n",
              "      <td>1350176.0</td>\n",
              "      <td>Petite sign ASL for DLL - *old packer \\n</td>\n",
              "      <td>0x10f</td>\n",
              "      <td>3.0</td>\n",
              "      <td>NaN</td>\n",
              "      <td>81920.0</td>\n",
              "      <td>False</td>\n",
              "      <td>0.0</td>\n",
              "      <td>False</td>\n",
              "    </tr>\n",
              "    <tr>\n",
              "      <th>cba8e5374081db7da8d45fa98359d87f.vir</th>\n",
              "      <td>7976</td>\n",
              "      <td>1</td>\n",
              "      <td>True</td>\n",
              "      <td>False</td>\n",
              "      <td>4035529.0</td>\n",
              "      <td>PECompact\\nPECompact\\nPeCompact DLL\\nPECompact...</td>\n",
              "      <td>0x10f</td>\n",
              "      <td>2.0</td>\n",
              "      <td>7.972003</td>\n",
              "      <td>8192.0</td>\n",
              "      <td>True</td>\n",
              "      <td>0.0</td>\n",
              "      <td>False</td>\n",
              "    </tr>\n",
              "    <tr>\n",
              "      <th>...</th>\n",
              "      <td>...</td>\n",
              "      <td>...</td>\n",
              "      <td>...</td>\n",
              "      <td>...</td>\n",
              "      <td>...</td>\n",
              "      <td>...</td>\n",
              "      <td>...</td>\n",
              "      <td>...</td>\n",
              "      <td>...</td>\n",
              "      <td>...</td>\n",
              "      <td>...</td>\n",
              "      <td>...</td>\n",
              "      <td>...</td>\n",
              "    </tr>\n",
              "    <tr>\n",
              "      <th>e638f5c2fc248ef94a75bbca6923cb57.vir</th>\n",
              "      <td>9004</td>\n",
              "      <td>0</td>\n",
              "      <td>True</td>\n",
              "      <td>False</td>\n",
              "      <td>1866612.0</td>\n",
              "      <td>VMProtect\\nASProtect\\nASProtect\\nASProtect\\n</td>\n",
              "      <td>0x103</td>\n",
              "      <td>7.0</td>\n",
              "      <td>NaN</td>\n",
              "      <td>5492736.0</td>\n",
              "      <td>True</td>\n",
              "      <td>0.0</td>\n",
              "      <td>False</td>\n",
              "    </tr>\n",
              "    <tr>\n",
              "      <th>0a9dea1605ae2f00f5e3ab2b41b4548d.vir</th>\n",
              "      <td>419</td>\n",
              "      <td>1</td>\n",
              "      <td>True</td>\n",
              "      <td>False</td>\n",
              "      <td>513288.0</td>\n",
              "      <td>Petite sign ASL for DLL - *old packer \\n</td>\n",
              "      <td>0x10f</td>\n",
              "      <td>3.0</td>\n",
              "      <td>NaN</td>\n",
              "      <td>81920.0</td>\n",
              "      <td>False</td>\n",
              "      <td>0.0</td>\n",
              "      <td>False</td>\n",
              "    </tr>\n",
              "    <tr>\n",
              "      <th>f3bf38b27d8a472be11cb2967fcea3ff.vir</th>\n",
              "      <td>9527</td>\n",
              "      <td>0</td>\n",
              "      <td>True</td>\n",
              "      <td>True</td>\n",
              "      <td>140776.0</td>\n",
              "      <td>None</td>\n",
              "      <td>None</td>\n",
              "      <td>NaN</td>\n",
              "      <td>NaN</td>\n",
              "      <td>NaN</td>\n",
              "      <td>None</td>\n",
              "      <td>NaN</td>\n",
              "      <td>None</td>\n",
              "    </tr>\n",
              "    <tr>\n",
              "      <th>7cba14a7de16383e7daba7e7f7c40f5a.vir</th>\n",
              "      <td>4811</td>\n",
              "      <td>0</td>\n",
              "      <td>True</td>\n",
              "      <td>False</td>\n",
              "      <td>55516.0</td>\n",
              "      <td>Microsoft Visual C# / Basic .NET\\n</td>\n",
              "      <td>0x2022</td>\n",
              "      <td>3.0</td>\n",
              "      <td>5.927064</td>\n",
              "      <td>1256.0</td>\n",
              "      <td>False</td>\n",
              "      <td>NaN</td>\n",
              "      <td>None</td>\n",
              "    </tr>\n",
              "    <tr>\n",
              "      <th>6f7ad084c602a3056d4c4cca1f10f407.vir</th>\n",
              "      <td>4325</td>\n",
              "      <td>1</td>\n",
              "      <td>True</td>\n",
              "      <td>False</td>\n",
              "      <td>310801.0</td>\n",
              "      <td>Microsoft Visual C++\\nVC8\\nMicrosoft Visual C++\\n</td>\n",
              "      <td>0x102</td>\n",
              "      <td>6.0</td>\n",
              "      <td>5.770574</td>\n",
              "      <td>148264.0</td>\n",
              "      <td>False</td>\n",
              "      <td>2.0</td>\n",
              "      <td>True</td>\n",
              "    </tr>\n",
              "  </tbody>\n",
              "</table>\n",
              "<p>1000 rows × 13 columns</p>\n",
              "</div>\n",
              "    <div class=\"colab-df-buttons\">\n",
              "\n",
              "  <div class=\"colab-df-container\">\n",
              "    <button class=\"colab-df-convert\" onclick=\"convertToInteractive('df-106e7b58-34cb-4ffd-b16f-2542065f2879')\"\n",
              "            title=\"Convert this dataframe to an interactive table.\"\n",
              "            style=\"display:none;\">\n",
              "\n",
              "  <svg xmlns=\"http://www.w3.org/2000/svg\" height=\"24px\" viewBox=\"0 -960 960 960\">\n",
              "    <path d=\"M120-120v-720h720v720H120Zm60-500h600v-160H180v160Zm220 220h160v-160H400v160Zm0 220h160v-160H400v160ZM180-400h160v-160H180v160Zm440 0h160v-160H620v160ZM180-180h160v-160H180v160Zm440 0h160v-160H620v160Z\"/>\n",
              "  </svg>\n",
              "    </button>\n",
              "\n",
              "  <style>\n",
              "    .colab-df-container {\n",
              "      display:flex;\n",
              "      gap: 12px;\n",
              "    }\n",
              "\n",
              "    .colab-df-convert {\n",
              "      background-color: #E8F0FE;\n",
              "      border: none;\n",
              "      border-radius: 50%;\n",
              "      cursor: pointer;\n",
              "      display: none;\n",
              "      fill: #1967D2;\n",
              "      height: 32px;\n",
              "      padding: 0 0 0 0;\n",
              "      width: 32px;\n",
              "    }\n",
              "\n",
              "    .colab-df-convert:hover {\n",
              "      background-color: #E2EBFA;\n",
              "      box-shadow: 0px 1px 2px rgba(60, 64, 67, 0.3), 0px 1px 3px 1px rgba(60, 64, 67, 0.15);\n",
              "      fill: #174EA6;\n",
              "    }\n",
              "\n",
              "    .colab-df-buttons div {\n",
              "      margin-bottom: 4px;\n",
              "    }\n",
              "\n",
              "    [theme=dark] .colab-df-convert {\n",
              "      background-color: #3B4455;\n",
              "      fill: #D2E3FC;\n",
              "    }\n",
              "\n",
              "    [theme=dark] .colab-df-convert:hover {\n",
              "      background-color: #434B5C;\n",
              "      box-shadow: 0px 1px 3px 1px rgba(0, 0, 0, 0.15);\n",
              "      filter: drop-shadow(0px 1px 2px rgba(0, 0, 0, 0.3));\n",
              "      fill: #FFFFFF;\n",
              "    }\n",
              "  </style>\n",
              "\n",
              "    <script>\n",
              "      const buttonEl =\n",
              "        document.querySelector('#df-106e7b58-34cb-4ffd-b16f-2542065f2879 button.colab-df-convert');\n",
              "      buttonEl.style.display =\n",
              "        google.colab.kernel.accessAllowed ? 'block' : 'none';\n",
              "\n",
              "      async function convertToInteractive(key) {\n",
              "        const element = document.querySelector('#df-106e7b58-34cb-4ffd-b16f-2542065f2879');\n",
              "        const dataTable =\n",
              "          await google.colab.kernel.invokeFunction('convertToInteractive',\n",
              "                                                    [key], {});\n",
              "        if (!dataTable) return;\n",
              "\n",
              "        const docLinkHtml = 'Like what you see? Visit the ' +\n",
              "          '<a target=\"_blank\" href=https://colab.research.google.com/notebooks/data_table.ipynb>data table notebook</a>'\n",
              "          + ' to learn more about interactive tables.';\n",
              "        element.innerHTML = '';\n",
              "        dataTable['output_type'] = 'display_data';\n",
              "        await google.colab.output.renderOutput(dataTable, element);\n",
              "        const docLink = document.createElement('div');\n",
              "        docLink.innerHTML = docLinkHtml;\n",
              "        element.appendChild(docLink);\n",
              "      }\n",
              "    </script>\n",
              "  </div>\n",
              "\n",
              "\n",
              "    <div id=\"df-f58f71bc-adf1-45d4-ac00-7a7a551aa674\">\n",
              "      <button class=\"colab-df-quickchart\" onclick=\"quickchart('df-f58f71bc-adf1-45d4-ac00-7a7a551aa674')\"\n",
              "                title=\"Suggest charts\"\n",
              "                style=\"display:none;\">\n",
              "\n",
              "<svg xmlns=\"http://www.w3.org/2000/svg\" height=\"24px\"viewBox=\"0 0 24 24\"\n",
              "     width=\"24px\">\n",
              "    <g>\n",
              "        <path d=\"M19 3H5c-1.1 0-2 .9-2 2v14c0 1.1.9 2 2 2h14c1.1 0 2-.9 2-2V5c0-1.1-.9-2-2-2zM9 17H7v-7h2v7zm4 0h-2V7h2v10zm4 0h-2v-4h2v4z\"/>\n",
              "    </g>\n",
              "</svg>\n",
              "      </button>\n",
              "\n",
              "<style>\n",
              "  .colab-df-quickchart {\n",
              "      --bg-color: #E8F0FE;\n",
              "      --fill-color: #1967D2;\n",
              "      --hover-bg-color: #E2EBFA;\n",
              "      --hover-fill-color: #174EA6;\n",
              "      --disabled-fill-color: #AAA;\n",
              "      --disabled-bg-color: #DDD;\n",
              "  }\n",
              "\n",
              "  [theme=dark] .colab-df-quickchart {\n",
              "      --bg-color: #3B4455;\n",
              "      --fill-color: #D2E3FC;\n",
              "      --hover-bg-color: #434B5C;\n",
              "      --hover-fill-color: #FFFFFF;\n",
              "      --disabled-bg-color: #3B4455;\n",
              "      --disabled-fill-color: #666;\n",
              "  }\n",
              "\n",
              "  .colab-df-quickchart {\n",
              "    background-color: var(--bg-color);\n",
              "    border: none;\n",
              "    border-radius: 50%;\n",
              "    cursor: pointer;\n",
              "    display: none;\n",
              "    fill: var(--fill-color);\n",
              "    height: 32px;\n",
              "    padding: 0;\n",
              "    width: 32px;\n",
              "  }\n",
              "\n",
              "  .colab-df-quickchart:hover {\n",
              "    background-color: var(--hover-bg-color);\n",
              "    box-shadow: 0 1px 2px rgba(60, 64, 67, 0.3), 0 1px 3px 1px rgba(60, 64, 67, 0.15);\n",
              "    fill: var(--button-hover-fill-color);\n",
              "  }\n",
              "\n",
              "  .colab-df-quickchart-complete:disabled,\n",
              "  .colab-df-quickchart-complete:disabled:hover {\n",
              "    background-color: var(--disabled-bg-color);\n",
              "    fill: var(--disabled-fill-color);\n",
              "    box-shadow: none;\n",
              "  }\n",
              "\n",
              "  .colab-df-spinner {\n",
              "    border: 2px solid var(--fill-color);\n",
              "    border-color: transparent;\n",
              "    border-bottom-color: var(--fill-color);\n",
              "    animation:\n",
              "      spin 1s steps(1) infinite;\n",
              "  }\n",
              "\n",
              "  @keyframes spin {\n",
              "    0% {\n",
              "      border-color: transparent;\n",
              "      border-bottom-color: var(--fill-color);\n",
              "      border-left-color: var(--fill-color);\n",
              "    }\n",
              "    20% {\n",
              "      border-color: transparent;\n",
              "      border-left-color: var(--fill-color);\n",
              "      border-top-color: var(--fill-color);\n",
              "    }\n",
              "    30% {\n",
              "      border-color: transparent;\n",
              "      border-left-color: var(--fill-color);\n",
              "      border-top-color: var(--fill-color);\n",
              "      border-right-color: var(--fill-color);\n",
              "    }\n",
              "    40% {\n",
              "      border-color: transparent;\n",
              "      border-right-color: var(--fill-color);\n",
              "      border-top-color: var(--fill-color);\n",
              "    }\n",
              "    60% {\n",
              "      border-color: transparent;\n",
              "      border-right-color: var(--fill-color);\n",
              "    }\n",
              "    80% {\n",
              "      border-color: transparent;\n",
              "      border-right-color: var(--fill-color);\n",
              "      border-bottom-color: var(--fill-color);\n",
              "    }\n",
              "    90% {\n",
              "      border-color: transparent;\n",
              "      border-bottom-color: var(--fill-color);\n",
              "    }\n",
              "  }\n",
              "</style>\n",
              "\n",
              "      <script>\n",
              "        async function quickchart(key) {\n",
              "          const quickchartButtonEl =\n",
              "            document.querySelector('#' + key + ' button');\n",
              "          quickchartButtonEl.disabled = true;  // To prevent multiple clicks.\n",
              "          quickchartButtonEl.classList.add('colab-df-spinner');\n",
              "          try {\n",
              "            const charts = await google.colab.kernel.invokeFunction(\n",
              "                'suggestCharts', [key], {});\n",
              "          } catch (error) {\n",
              "            console.error('Error during call to suggestCharts:', error);\n",
              "          }\n",
              "          quickchartButtonEl.classList.remove('colab-df-spinner');\n",
              "          quickchartButtonEl.classList.add('colab-df-quickchart-complete');\n",
              "        }\n",
              "        (() => {\n",
              "          let quickchartButtonEl =\n",
              "            document.querySelector('#df-f58f71bc-adf1-45d4-ac00-7a7a551aa674 button');\n",
              "          quickchartButtonEl.style.display =\n",
              "            google.colab.kernel.accessAllowed ? 'block' : 'none';\n",
              "        })();\n",
              "      </script>\n",
              "    </div>\n",
              "\n",
              "  <div id=\"id_6501e5d4-ed21-496e-a10c-0f8cd8335f68\">\n",
              "    <style>\n",
              "      .colab-df-generate {\n",
              "        background-color: #E8F0FE;\n",
              "        border: none;\n",
              "        border-radius: 50%;\n",
              "        cursor: pointer;\n",
              "        display: none;\n",
              "        fill: #1967D2;\n",
              "        height: 32px;\n",
              "        padding: 0 0 0 0;\n",
              "        width: 32px;\n",
              "      }\n",
              "\n",
              "      .colab-df-generate:hover {\n",
              "        background-color: #E2EBFA;\n",
              "        box-shadow: 0px 1px 2px rgba(60, 64, 67, 0.3), 0px 1px 3px 1px rgba(60, 64, 67, 0.15);\n",
              "        fill: #174EA6;\n",
              "      }\n",
              "\n",
              "      [theme=dark] .colab-df-generate {\n",
              "        background-color: #3B4455;\n",
              "        fill: #D2E3FC;\n",
              "      }\n",
              "\n",
              "      [theme=dark] .colab-df-generate:hover {\n",
              "        background-color: #434B5C;\n",
              "        box-shadow: 0px 1px 3px 1px rgba(0, 0, 0, 0.15);\n",
              "        filter: drop-shadow(0px 1px 2px rgba(0, 0, 0, 0.3));\n",
              "        fill: #FFFFFF;\n",
              "      }\n",
              "    </style>\n",
              "    <button class=\"colab-df-generate\" onclick=\"generateWithVariable('df_train')\"\n",
              "            title=\"Generate code using this dataframe.\"\n",
              "            style=\"display:none;\">\n",
              "\n",
              "  <svg xmlns=\"http://www.w3.org/2000/svg\" height=\"24px\"viewBox=\"0 0 24 24\"\n",
              "       width=\"24px\">\n",
              "    <path d=\"M7,19H8.4L18.45,9,17,7.55,7,17.6ZM5,21V16.75L18.45,3.32a2,2,0,0,1,2.83,0l1.4,1.43a1.91,1.91,0,0,1,.58,1.4,1.91,1.91,0,0,1-.58,1.4L9.25,21ZM18.45,9,17,7.55Zm-12,3A5.31,5.31,0,0,0,4.9,8.1,5.31,5.31,0,0,0,1,6.5,5.31,5.31,0,0,0,4.9,4.9,5.31,5.31,0,0,0,6.5,1,5.31,5.31,0,0,0,8.1,4.9,5.31,5.31,0,0,0,12,6.5,5.46,5.46,0,0,0,6.5,12Z\"/>\n",
              "  </svg>\n",
              "    </button>\n",
              "    <script>\n",
              "      (() => {\n",
              "      const buttonEl =\n",
              "        document.querySelector('#id_6501e5d4-ed21-496e-a10c-0f8cd8335f68 button.colab-df-generate');\n",
              "      buttonEl.style.display =\n",
              "        google.colab.kernel.accessAllowed ? 'block' : 'none';\n",
              "\n",
              "      buttonEl.onclick = () => {\n",
              "        google.colab.notebook.generateWithVariable('df_train');\n",
              "      }\n",
              "      })();\n",
              "    </script>\n",
              "  </div>\n",
              "\n",
              "    </div>\n",
              "  </div>\n"
            ],
            "application/vnd.google.colaboratory.intrinsic+json": {
              "type": "dataframe",
              "variable_name": "df_train",
              "summary": "{\n  \"name\": \"df_train\",\n  \"rows\": 1000,\n  \"fields\": [\n    {\n      \"column\": \"hash\",\n      \"properties\": {\n        \"dtype\": \"string\",\n        \"num_unique_values\": 1000,\n        \"samples\": [\n          \"cd8c9964ec4b3f77ab318c68836bfb81.vir\",\n          \"5aa639f4b69779df1438b18f7b1c4dab.vir\",\n          \"9f834d8045691b1401698456dfe06fbb.vir\"\n        ],\n        \"semantic_type\": \"\",\n        \"description\": \"\"\n      }\n    },\n    {\n      \"column\": \"index_orig\",\n      \"properties\": {\n        \"dtype\": \"number\",\n        \"std\": 2856,\n        \"min\": 3,\n        \"max\": 9975,\n        \"num_unique_values\": 1000,\n        \"samples\": [\n          8053,\n          3549,\n          6206\n        ],\n        \"semantic_type\": \"\",\n        \"description\": \"\"\n      }\n    },\n    {\n      \"column\": \"target\",\n      \"properties\": {\n        \"dtype\": \"number\",\n        \"std\": 0,\n        \"min\": 0,\n        \"max\": 1,\n        \"num_unique_values\": 2,\n        \"samples\": [\n          0,\n          1\n        ],\n        \"semantic_type\": \"\",\n        \"description\": \"\"\n      }\n    },\n    {\n      \"column\": \"is_PE\",\n      \"properties\": {\n        \"dtype\": \"boolean\",\n        \"num_unique_values\": 2,\n        \"samples\": [\n          false,\n          true\n        ],\n        \"semantic_type\": \"\",\n        \"description\": \"\"\n      }\n    },\n    {\n      \"column\": \"has_error\",\n      \"properties\": {\n        \"dtype\": \"boolean\",\n        \"num_unique_values\": 2,\n        \"samples\": [\n          true,\n          false\n        ],\n        \"semantic_type\": \"\",\n        \"description\": \"\"\n      }\n    },\n    {\n      \"column\": \"size\",\n      \"properties\": {\n        \"dtype\": \"number\",\n        \"std\": 1709608.7681208914,\n        \"min\": 2052.0,\n        \"max\": 24395780.0,\n        \"num_unique_values\": 823,\n        \"samples\": [\n          683426.0,\n          2011020.0\n        ],\n        \"semantic_type\": \"\",\n        \"description\": \"\"\n      }\n    },\n    {\n      \"column\": \"packer\",\n      \"properties\": {\n        \"dtype\": \"category\",\n        \"num_unique_values\": 114,\n        \"samples\": [\n          \"Borland Delphi (???)\\nBorland Delphi\\nBorland Delphi\\nBorland Delphi\\nBorland Delphi\\nBorland Delphi\\nBorland Delphi\\nBorland Delphi\\nBobSoft Mini Delphi\\nBorland Delphi\\nBorland Delphi\\n\",\n          \"PECompact\\nPECompact\\nPeCompact DLL\\nPECompact Heuristic Mode\\n\"\n        ],\n        \"semantic_type\": \"\",\n        \"description\": \"\"\n      }\n    },\n    {\n      \"column\": \"ifc\",\n      \"properties\": {\n        \"dtype\": \"category\",\n        \"num_unique_values\": 42,\n        \"samples\": [\n          \"0xa18e\",\n          \"0x2023\"\n        ],\n        \"semantic_type\": \"\",\n        \"description\": \"\"\n      }\n    },\n    {\n      \"column\": \"section_cnt\",\n      \"properties\": {\n        \"dtype\": \"number\",\n        \"std\": 5.6095034330573705,\n        \"min\": 1.0,\n        \"max\": 88.0,\n        \"num_unique_values\": 23,\n        \"samples\": [\n          88.0,\n          14.0\n        ],\n        \"semantic_type\": \"\",\n        \"description\": \"\"\n      }\n    },\n    {\n      \"column\": \"ts_entropy\",\n      \"properties\": {\n        \"dtype\": \"number\",\n        \"std\": 1.079297981966031,\n        \"min\": 0.1497969356521067,\n        \"max\": 7.998731764360713,\n        \"num_unique_values\": 682,\n        \"samples\": [\n          4.920602258791103,\n          6.45997087733391\n        ],\n        \"semantic_type\": \"\",\n        \"description\": \"\"\n      }\n    },\n    {\n      \"column\": \"rs_size\",\n      \"properties\": {\n        \"dtype\": \"number\",\n        \"std\": 4194327.175677864,\n        \"min\": 16.0,\n        \"max\": 116526068.0,\n        \"num_unique_values\": 481,\n        \"samples\": [\n          90680.0,\n          1464.0\n        ],\n        \"semantic_type\": \"\",\n        \"description\": \"\"\n      }\n    },\n    {\n      \"column\": \"yara_https\",\n      \"properties\": {\n        \"dtype\": \"category\",\n        \"num_unique_values\": 2,\n        \"samples\": [\n          true,\n          false\n        ],\n        \"semantic_type\": \"\",\n        \"description\": \"\"\n      }\n    },\n    {\n      \"column\": \"file_deleted_cnt\",\n      \"properties\": {\n        \"dtype\": \"number\",\n        \"std\": 27.528720119209297,\n        \"min\": 0.0,\n        \"max\": 300.0,\n        \"num_unique_values\": 60,\n        \"samples\": [\n          0.0,\n          3.0\n        ],\n        \"semantic_type\": \"\",\n        \"description\": \"\"\n      }\n    },\n    {\n      \"column\": \"registry_runkey_modify\",\n      \"properties\": {\n        \"dtype\": \"category\",\n        \"num_unique_values\": 2,\n        \"samples\": [\n          true,\n          false\n        ],\n        \"semantic_type\": \"\",\n        \"description\": \"\"\n      }\n    }\n  ]\n}"
            }
          },
          "metadata": {},
          "execution_count": 19
        }
      ],
      "source": [
        "df_train"
      ]
    },
    {
      "cell_type": "markdown",
      "metadata": {
        "id": "H5nu6IvMEwb6"
      },
      "source": [
        "### 학습용 데이터 저장"
      ]
    },
    {
      "cell_type": "code",
      "execution_count": 24,
      "metadata": {
        "id": "E-uAB4fSqTCq"
      },
      "outputs": [],
      "source": [
        "# 매 분석시마다 Feature를 추출하는데 시간이 소요되지 않도록 결과 저장\n",
        "# 전처리/모델링에서 로드하여 사용\n",
        "df_train.to_csv(colab_path + '/data_with_feature_csv/train_1st.csv')"
      ]
    },
    {
      "cell_type": "code",
      "source": [],
      "metadata": {
        "id": "IUGEq1X5m0FF"
      },
      "execution_count": null,
      "outputs": []
    },
    {
      "cell_type": "markdown",
      "source": [
        "# 3-1. 분석용 데이터 준비: 전처리"
      ],
      "metadata": {
        "id": "WyZto4_jUCvb"
      }
    },
    {
      "cell_type": "code",
      "source": [
        "# 저장한 데이터 파일 로드\n",
        "df_train = pd.read_csv(colab_path + \"data_with_feature_csv/train_1st.csv\", index_col='hash')"
      ],
      "metadata": {
        "id": "CwP5c7_YUEFY"
      },
      "execution_count": 26,
      "outputs": []
    },
    {
      "cell_type": "code",
      "source": [
        "df_train"
      ],
      "metadata": {
        "id": "j1UnXLj4uPjS",
        "colab": {
          "base_uri": "https://localhost:8080/",
          "height": 509
        },
        "outputId": "c9d64854-8de1-4d55-8c50-6ce9144ea46b"
      },
      "execution_count": 27,
      "outputs": [
        {
          "output_type": "execute_result",
          "data": {
            "text/plain": [
              "                                      index_orig  target  is_PE  has_error  \\\n",
              "hash                                                                         \n",
              "ac282b5c526acab44530c0a995d4e23a.vir        6710       1   True      False   \n",
              "7a44a4bf7c9a7f332901e6a792e9c8b5.vir        4725       0   True      False   \n",
              "1581f524dec2cc3ba8bef37f3ab3d1fd.vir         872       0   True      False   \n",
              "15166c91b32b49734932ccae17426f16.vir         862       1   True      False   \n",
              "cba8e5374081db7da8d45fa98359d87f.vir        7976       1   True      False   \n",
              "...                                          ...     ...    ...        ...   \n",
              "e638f5c2fc248ef94a75bbca6923cb57.vir        9004       0   True      False   \n",
              "0a9dea1605ae2f00f5e3ab2b41b4548d.vir         419       1   True      False   \n",
              "f3bf38b27d8a472be11cb2967fcea3ff.vir        9527       0   True       True   \n",
              "7cba14a7de16383e7daba7e7f7c40f5a.vir        4811       0   True      False   \n",
              "6f7ad084c602a3056d4c4cca1f10f407.vir        4325       1   True      False   \n",
              "\n",
              "                                           size  \\\n",
              "hash                                              \n",
              "ac282b5c526acab44530c0a995d4e23a.vir   177189.0   \n",
              "7a44a4bf7c9a7f332901e6a792e9c8b5.vir    10244.0   \n",
              "1581f524dec2cc3ba8bef37f3ab3d1fd.vir   720900.0   \n",
              "15166c91b32b49734932ccae17426f16.vir  1350176.0   \n",
              "cba8e5374081db7da8d45fa98359d87f.vir  4035529.0   \n",
              "...                                         ...   \n",
              "e638f5c2fc248ef94a75bbca6923cb57.vir  1866612.0   \n",
              "0a9dea1605ae2f00f5e3ab2b41b4548d.vir   513288.0   \n",
              "f3bf38b27d8a472be11cb2967fcea3ff.vir   140776.0   \n",
              "7cba14a7de16383e7daba7e7f7c40f5a.vir    55516.0   \n",
              "6f7ad084c602a3056d4c4cca1f10f407.vir   310801.0   \n",
              "\n",
              "                                                                                 packer  \\\n",
              "hash                                                                                      \n",
              "ac282b5c526acab44530c0a995d4e23a.vir                           Microsoft Visual Basic\\n   \n",
              "7a44a4bf7c9a7f332901e6a792e9c8b5.vir             Microsoft Visual C++\\nVisual C++ EXE\\n   \n",
              "1581f524dec2cc3ba8bef37f3ab3d1fd.vir                    MSLRH\\nUPX\\nUPX (Delphi) Stub\\n   \n",
              "15166c91b32b49734932ccae17426f16.vir           Petite sign ASL for DLL - *old packer \\n   \n",
              "cba8e5374081db7da8d45fa98359d87f.vir  PECompact\\nPECompact\\nPeCompact DLL\\nPECompact...   \n",
              "...                                                                                 ...   \n",
              "e638f5c2fc248ef94a75bbca6923cb57.vir       VMProtect\\nASProtect\\nASProtect\\nASProtect\\n   \n",
              "0a9dea1605ae2f00f5e3ab2b41b4548d.vir           Petite sign ASL for DLL - *old packer \\n   \n",
              "f3bf38b27d8a472be11cb2967fcea3ff.vir                                                NaN   \n",
              "7cba14a7de16383e7daba7e7f7c40f5a.vir                 Microsoft Visual C# / Basic .NET\\n   \n",
              "6f7ad084c602a3056d4c4cca1f10f407.vir  Microsoft Visual C++\\nVC8\\nMicrosoft Visual C++\\n   \n",
              "\n",
              "                                         ifc  section_cnt  ts_entropy  \\\n",
              "hash                                                                    \n",
              "ac282b5c526acab44530c0a995d4e23a.vir   0x10f          3.0    5.972551   \n",
              "7a44a4bf7c9a7f332901e6a792e9c8b5.vir   0x10f          3.0    5.609966   \n",
              "1581f524dec2cc3ba8bef37f3ab3d1fd.vir  0x818f          3.0         NaN   \n",
              "15166c91b32b49734932ccae17426f16.vir   0x10f          3.0         NaN   \n",
              "cba8e5374081db7da8d45fa98359d87f.vir   0x10f          2.0    7.972003   \n",
              "...                                      ...          ...         ...   \n",
              "e638f5c2fc248ef94a75bbca6923cb57.vir   0x103          7.0         NaN   \n",
              "0a9dea1605ae2f00f5e3ab2b41b4548d.vir   0x10f          3.0         NaN   \n",
              "f3bf38b27d8a472be11cb2967fcea3ff.vir     NaN          NaN         NaN   \n",
              "7cba14a7de16383e7daba7e7f7c40f5a.vir  0x2022          3.0    5.927064   \n",
              "6f7ad084c602a3056d4c4cca1f10f407.vir   0x102          6.0    5.770574   \n",
              "\n",
              "                                        rs_size yara_https  file_deleted_cnt  \\\n",
              "hash                                                                           \n",
              "ac282b5c526acab44530c0a995d4e23a.vir     1504.0      False               NaN   \n",
              "7a44a4bf7c9a7f332901e6a792e9c8b5.vir        NaN      False               0.0   \n",
              "1581f524dec2cc3ba8bef37f3ab3d1fd.vir    45126.0      False               0.0   \n",
              "15166c91b32b49734932ccae17426f16.vir    81920.0      False               0.0   \n",
              "cba8e5374081db7da8d45fa98359d87f.vir     8192.0       True               0.0   \n",
              "...                                         ...        ...               ...   \n",
              "e638f5c2fc248ef94a75bbca6923cb57.vir  5492736.0       True               0.0   \n",
              "0a9dea1605ae2f00f5e3ab2b41b4548d.vir    81920.0      False               0.0   \n",
              "f3bf38b27d8a472be11cb2967fcea3ff.vir        NaN        NaN               NaN   \n",
              "7cba14a7de16383e7daba7e7f7c40f5a.vir     1256.0      False               NaN   \n",
              "6f7ad084c602a3056d4c4cca1f10f407.vir   148264.0      False               2.0   \n",
              "\n",
              "                                     registry_runkey_modify  \n",
              "hash                                                         \n",
              "ac282b5c526acab44530c0a995d4e23a.vir                    NaN  \n",
              "7a44a4bf7c9a7f332901e6a792e9c8b5.vir                  False  \n",
              "1581f524dec2cc3ba8bef37f3ab3d1fd.vir                  False  \n",
              "15166c91b32b49734932ccae17426f16.vir                  False  \n",
              "cba8e5374081db7da8d45fa98359d87f.vir                  False  \n",
              "...                                                     ...  \n",
              "e638f5c2fc248ef94a75bbca6923cb57.vir                  False  \n",
              "0a9dea1605ae2f00f5e3ab2b41b4548d.vir                  False  \n",
              "f3bf38b27d8a472be11cb2967fcea3ff.vir                    NaN  \n",
              "7cba14a7de16383e7daba7e7f7c40f5a.vir                    NaN  \n",
              "6f7ad084c602a3056d4c4cca1f10f407.vir                   True  \n",
              "\n",
              "[1000 rows x 13 columns]"
            ],
            "text/html": [
              "\n",
              "  <div id=\"df-d6c1fb5f-a470-4e22-be39-375ca4b0f86a\" class=\"colab-df-container\">\n",
              "    <div>\n",
              "<style scoped>\n",
              "    .dataframe tbody tr th:only-of-type {\n",
              "        vertical-align: middle;\n",
              "    }\n",
              "\n",
              "    .dataframe tbody tr th {\n",
              "        vertical-align: top;\n",
              "    }\n",
              "\n",
              "    .dataframe thead th {\n",
              "        text-align: right;\n",
              "    }\n",
              "</style>\n",
              "<table border=\"1\" class=\"dataframe\">\n",
              "  <thead>\n",
              "    <tr style=\"text-align: right;\">\n",
              "      <th></th>\n",
              "      <th>index_orig</th>\n",
              "      <th>target</th>\n",
              "      <th>is_PE</th>\n",
              "      <th>has_error</th>\n",
              "      <th>size</th>\n",
              "      <th>packer</th>\n",
              "      <th>ifc</th>\n",
              "      <th>section_cnt</th>\n",
              "      <th>ts_entropy</th>\n",
              "      <th>rs_size</th>\n",
              "      <th>yara_https</th>\n",
              "      <th>file_deleted_cnt</th>\n",
              "      <th>registry_runkey_modify</th>\n",
              "    </tr>\n",
              "    <tr>\n",
              "      <th>hash</th>\n",
              "      <th></th>\n",
              "      <th></th>\n",
              "      <th></th>\n",
              "      <th></th>\n",
              "      <th></th>\n",
              "      <th></th>\n",
              "      <th></th>\n",
              "      <th></th>\n",
              "      <th></th>\n",
              "      <th></th>\n",
              "      <th></th>\n",
              "      <th></th>\n",
              "      <th></th>\n",
              "    </tr>\n",
              "  </thead>\n",
              "  <tbody>\n",
              "    <tr>\n",
              "      <th>ac282b5c526acab44530c0a995d4e23a.vir</th>\n",
              "      <td>6710</td>\n",
              "      <td>1</td>\n",
              "      <td>True</td>\n",
              "      <td>False</td>\n",
              "      <td>177189.0</td>\n",
              "      <td>Microsoft Visual Basic\\n</td>\n",
              "      <td>0x10f</td>\n",
              "      <td>3.0</td>\n",
              "      <td>5.972551</td>\n",
              "      <td>1504.0</td>\n",
              "      <td>False</td>\n",
              "      <td>NaN</td>\n",
              "      <td>NaN</td>\n",
              "    </tr>\n",
              "    <tr>\n",
              "      <th>7a44a4bf7c9a7f332901e6a792e9c8b5.vir</th>\n",
              "      <td>4725</td>\n",
              "      <td>0</td>\n",
              "      <td>True</td>\n",
              "      <td>False</td>\n",
              "      <td>10244.0</td>\n",
              "      <td>Microsoft Visual C++\\nVisual C++ EXE\\n</td>\n",
              "      <td>0x10f</td>\n",
              "      <td>3.0</td>\n",
              "      <td>5.609966</td>\n",
              "      <td>NaN</td>\n",
              "      <td>False</td>\n",
              "      <td>0.0</td>\n",
              "      <td>False</td>\n",
              "    </tr>\n",
              "    <tr>\n",
              "      <th>1581f524dec2cc3ba8bef37f3ab3d1fd.vir</th>\n",
              "      <td>872</td>\n",
              "      <td>0</td>\n",
              "      <td>True</td>\n",
              "      <td>False</td>\n",
              "      <td>720900.0</td>\n",
              "      <td>MSLRH\\nUPX\\nUPX (Delphi) Stub\\n</td>\n",
              "      <td>0x818f</td>\n",
              "      <td>3.0</td>\n",
              "      <td>NaN</td>\n",
              "      <td>45126.0</td>\n",
              "      <td>False</td>\n",
              "      <td>0.0</td>\n",
              "      <td>False</td>\n",
              "    </tr>\n",
              "    <tr>\n",
              "      <th>15166c91b32b49734932ccae17426f16.vir</th>\n",
              "      <td>862</td>\n",
              "      <td>1</td>\n",
              "      <td>True</td>\n",
              "      <td>False</td>\n",
              "      <td>1350176.0</td>\n",
              "      <td>Petite sign ASL for DLL - *old packer \\n</td>\n",
              "      <td>0x10f</td>\n",
              "      <td>3.0</td>\n",
              "      <td>NaN</td>\n",
              "      <td>81920.0</td>\n",
              "      <td>False</td>\n",
              "      <td>0.0</td>\n",
              "      <td>False</td>\n",
              "    </tr>\n",
              "    <tr>\n",
              "      <th>cba8e5374081db7da8d45fa98359d87f.vir</th>\n",
              "      <td>7976</td>\n",
              "      <td>1</td>\n",
              "      <td>True</td>\n",
              "      <td>False</td>\n",
              "      <td>4035529.0</td>\n",
              "      <td>PECompact\\nPECompact\\nPeCompact DLL\\nPECompact...</td>\n",
              "      <td>0x10f</td>\n",
              "      <td>2.0</td>\n",
              "      <td>7.972003</td>\n",
              "      <td>8192.0</td>\n",
              "      <td>True</td>\n",
              "      <td>0.0</td>\n",
              "      <td>False</td>\n",
              "    </tr>\n",
              "    <tr>\n",
              "      <th>...</th>\n",
              "      <td>...</td>\n",
              "      <td>...</td>\n",
              "      <td>...</td>\n",
              "      <td>...</td>\n",
              "      <td>...</td>\n",
              "      <td>...</td>\n",
              "      <td>...</td>\n",
              "      <td>...</td>\n",
              "      <td>...</td>\n",
              "      <td>...</td>\n",
              "      <td>...</td>\n",
              "      <td>...</td>\n",
              "      <td>...</td>\n",
              "    </tr>\n",
              "    <tr>\n",
              "      <th>e638f5c2fc248ef94a75bbca6923cb57.vir</th>\n",
              "      <td>9004</td>\n",
              "      <td>0</td>\n",
              "      <td>True</td>\n",
              "      <td>False</td>\n",
              "      <td>1866612.0</td>\n",
              "      <td>VMProtect\\nASProtect\\nASProtect\\nASProtect\\n</td>\n",
              "      <td>0x103</td>\n",
              "      <td>7.0</td>\n",
              "      <td>NaN</td>\n",
              "      <td>5492736.0</td>\n",
              "      <td>True</td>\n",
              "      <td>0.0</td>\n",
              "      <td>False</td>\n",
              "    </tr>\n",
              "    <tr>\n",
              "      <th>0a9dea1605ae2f00f5e3ab2b41b4548d.vir</th>\n",
              "      <td>419</td>\n",
              "      <td>1</td>\n",
              "      <td>True</td>\n",
              "      <td>False</td>\n",
              "      <td>513288.0</td>\n",
              "      <td>Petite sign ASL for DLL - *old packer \\n</td>\n",
              "      <td>0x10f</td>\n",
              "      <td>3.0</td>\n",
              "      <td>NaN</td>\n",
              "      <td>81920.0</td>\n",
              "      <td>False</td>\n",
              "      <td>0.0</td>\n",
              "      <td>False</td>\n",
              "    </tr>\n",
              "    <tr>\n",
              "      <th>f3bf38b27d8a472be11cb2967fcea3ff.vir</th>\n",
              "      <td>9527</td>\n",
              "      <td>0</td>\n",
              "      <td>True</td>\n",
              "      <td>True</td>\n",
              "      <td>140776.0</td>\n",
              "      <td>NaN</td>\n",
              "      <td>NaN</td>\n",
              "      <td>NaN</td>\n",
              "      <td>NaN</td>\n",
              "      <td>NaN</td>\n",
              "      <td>NaN</td>\n",
              "      <td>NaN</td>\n",
              "      <td>NaN</td>\n",
              "    </tr>\n",
              "    <tr>\n",
              "      <th>7cba14a7de16383e7daba7e7f7c40f5a.vir</th>\n",
              "      <td>4811</td>\n",
              "      <td>0</td>\n",
              "      <td>True</td>\n",
              "      <td>False</td>\n",
              "      <td>55516.0</td>\n",
              "      <td>Microsoft Visual C# / Basic .NET\\n</td>\n",
              "      <td>0x2022</td>\n",
              "      <td>3.0</td>\n",
              "      <td>5.927064</td>\n",
              "      <td>1256.0</td>\n",
              "      <td>False</td>\n",
              "      <td>NaN</td>\n",
              "      <td>NaN</td>\n",
              "    </tr>\n",
              "    <tr>\n",
              "      <th>6f7ad084c602a3056d4c4cca1f10f407.vir</th>\n",
              "      <td>4325</td>\n",
              "      <td>1</td>\n",
              "      <td>True</td>\n",
              "      <td>False</td>\n",
              "      <td>310801.0</td>\n",
              "      <td>Microsoft Visual C++\\nVC8\\nMicrosoft Visual C++\\n</td>\n",
              "      <td>0x102</td>\n",
              "      <td>6.0</td>\n",
              "      <td>5.770574</td>\n",
              "      <td>148264.0</td>\n",
              "      <td>False</td>\n",
              "      <td>2.0</td>\n",
              "      <td>True</td>\n",
              "    </tr>\n",
              "  </tbody>\n",
              "</table>\n",
              "<p>1000 rows × 13 columns</p>\n",
              "</div>\n",
              "    <div class=\"colab-df-buttons\">\n",
              "\n",
              "  <div class=\"colab-df-container\">\n",
              "    <button class=\"colab-df-convert\" onclick=\"convertToInteractive('df-d6c1fb5f-a470-4e22-be39-375ca4b0f86a')\"\n",
              "            title=\"Convert this dataframe to an interactive table.\"\n",
              "            style=\"display:none;\">\n",
              "\n",
              "  <svg xmlns=\"http://www.w3.org/2000/svg\" height=\"24px\" viewBox=\"0 -960 960 960\">\n",
              "    <path d=\"M120-120v-720h720v720H120Zm60-500h600v-160H180v160Zm220 220h160v-160H400v160Zm0 220h160v-160H400v160ZM180-400h160v-160H180v160Zm440 0h160v-160H620v160ZM180-180h160v-160H180v160Zm440 0h160v-160H620v160Z\"/>\n",
              "  </svg>\n",
              "    </button>\n",
              "\n",
              "  <style>\n",
              "    .colab-df-container {\n",
              "      display:flex;\n",
              "      gap: 12px;\n",
              "    }\n",
              "\n",
              "    .colab-df-convert {\n",
              "      background-color: #E8F0FE;\n",
              "      border: none;\n",
              "      border-radius: 50%;\n",
              "      cursor: pointer;\n",
              "      display: none;\n",
              "      fill: #1967D2;\n",
              "      height: 32px;\n",
              "      padding: 0 0 0 0;\n",
              "      width: 32px;\n",
              "    }\n",
              "\n",
              "    .colab-df-convert:hover {\n",
              "      background-color: #E2EBFA;\n",
              "      box-shadow: 0px 1px 2px rgba(60, 64, 67, 0.3), 0px 1px 3px 1px rgba(60, 64, 67, 0.15);\n",
              "      fill: #174EA6;\n",
              "    }\n",
              "\n",
              "    .colab-df-buttons div {\n",
              "      margin-bottom: 4px;\n",
              "    }\n",
              "\n",
              "    [theme=dark] .colab-df-convert {\n",
              "      background-color: #3B4455;\n",
              "      fill: #D2E3FC;\n",
              "    }\n",
              "\n",
              "    [theme=dark] .colab-df-convert:hover {\n",
              "      background-color: #434B5C;\n",
              "      box-shadow: 0px 1px 3px 1px rgba(0, 0, 0, 0.15);\n",
              "      filter: drop-shadow(0px 1px 2px rgba(0, 0, 0, 0.3));\n",
              "      fill: #FFFFFF;\n",
              "    }\n",
              "  </style>\n",
              "\n",
              "    <script>\n",
              "      const buttonEl =\n",
              "        document.querySelector('#df-d6c1fb5f-a470-4e22-be39-375ca4b0f86a button.colab-df-convert');\n",
              "      buttonEl.style.display =\n",
              "        google.colab.kernel.accessAllowed ? 'block' : 'none';\n",
              "\n",
              "      async function convertToInteractive(key) {\n",
              "        const element = document.querySelector('#df-d6c1fb5f-a470-4e22-be39-375ca4b0f86a');\n",
              "        const dataTable =\n",
              "          await google.colab.kernel.invokeFunction('convertToInteractive',\n",
              "                                                    [key], {});\n",
              "        if (!dataTable) return;\n",
              "\n",
              "        const docLinkHtml = 'Like what you see? Visit the ' +\n",
              "          '<a target=\"_blank\" href=https://colab.research.google.com/notebooks/data_table.ipynb>data table notebook</a>'\n",
              "          + ' to learn more about interactive tables.';\n",
              "        element.innerHTML = '';\n",
              "        dataTable['output_type'] = 'display_data';\n",
              "        await google.colab.output.renderOutput(dataTable, element);\n",
              "        const docLink = document.createElement('div');\n",
              "        docLink.innerHTML = docLinkHtml;\n",
              "        element.appendChild(docLink);\n",
              "      }\n",
              "    </script>\n",
              "  </div>\n",
              "\n",
              "\n",
              "    <div id=\"df-1b8650f6-0b4c-4c3a-b5a7-32c3d9032c38\">\n",
              "      <button class=\"colab-df-quickchart\" onclick=\"quickchart('df-1b8650f6-0b4c-4c3a-b5a7-32c3d9032c38')\"\n",
              "                title=\"Suggest charts\"\n",
              "                style=\"display:none;\">\n",
              "\n",
              "<svg xmlns=\"http://www.w3.org/2000/svg\" height=\"24px\"viewBox=\"0 0 24 24\"\n",
              "     width=\"24px\">\n",
              "    <g>\n",
              "        <path d=\"M19 3H5c-1.1 0-2 .9-2 2v14c0 1.1.9 2 2 2h14c1.1 0 2-.9 2-2V5c0-1.1-.9-2-2-2zM9 17H7v-7h2v7zm4 0h-2V7h2v10zm4 0h-2v-4h2v4z\"/>\n",
              "    </g>\n",
              "</svg>\n",
              "      </button>\n",
              "\n",
              "<style>\n",
              "  .colab-df-quickchart {\n",
              "      --bg-color: #E8F0FE;\n",
              "      --fill-color: #1967D2;\n",
              "      --hover-bg-color: #E2EBFA;\n",
              "      --hover-fill-color: #174EA6;\n",
              "      --disabled-fill-color: #AAA;\n",
              "      --disabled-bg-color: #DDD;\n",
              "  }\n",
              "\n",
              "  [theme=dark] .colab-df-quickchart {\n",
              "      --bg-color: #3B4455;\n",
              "      --fill-color: #D2E3FC;\n",
              "      --hover-bg-color: #434B5C;\n",
              "      --hover-fill-color: #FFFFFF;\n",
              "      --disabled-bg-color: #3B4455;\n",
              "      --disabled-fill-color: #666;\n",
              "  }\n",
              "\n",
              "  .colab-df-quickchart {\n",
              "    background-color: var(--bg-color);\n",
              "    border: none;\n",
              "    border-radius: 50%;\n",
              "    cursor: pointer;\n",
              "    display: none;\n",
              "    fill: var(--fill-color);\n",
              "    height: 32px;\n",
              "    padding: 0;\n",
              "    width: 32px;\n",
              "  }\n",
              "\n",
              "  .colab-df-quickchart:hover {\n",
              "    background-color: var(--hover-bg-color);\n",
              "    box-shadow: 0 1px 2px rgba(60, 64, 67, 0.3), 0 1px 3px 1px rgba(60, 64, 67, 0.15);\n",
              "    fill: var(--button-hover-fill-color);\n",
              "  }\n",
              "\n",
              "  .colab-df-quickchart-complete:disabled,\n",
              "  .colab-df-quickchart-complete:disabled:hover {\n",
              "    background-color: var(--disabled-bg-color);\n",
              "    fill: var(--disabled-fill-color);\n",
              "    box-shadow: none;\n",
              "  }\n",
              "\n",
              "  .colab-df-spinner {\n",
              "    border: 2px solid var(--fill-color);\n",
              "    border-color: transparent;\n",
              "    border-bottom-color: var(--fill-color);\n",
              "    animation:\n",
              "      spin 1s steps(1) infinite;\n",
              "  }\n",
              "\n",
              "  @keyframes spin {\n",
              "    0% {\n",
              "      border-color: transparent;\n",
              "      border-bottom-color: var(--fill-color);\n",
              "      border-left-color: var(--fill-color);\n",
              "    }\n",
              "    20% {\n",
              "      border-color: transparent;\n",
              "      border-left-color: var(--fill-color);\n",
              "      border-top-color: var(--fill-color);\n",
              "    }\n",
              "    30% {\n",
              "      border-color: transparent;\n",
              "      border-left-color: var(--fill-color);\n",
              "      border-top-color: var(--fill-color);\n",
              "      border-right-color: var(--fill-color);\n",
              "    }\n",
              "    40% {\n",
              "      border-color: transparent;\n",
              "      border-right-color: var(--fill-color);\n",
              "      border-top-color: var(--fill-color);\n",
              "    }\n",
              "    60% {\n",
              "      border-color: transparent;\n",
              "      border-right-color: var(--fill-color);\n",
              "    }\n",
              "    80% {\n",
              "      border-color: transparent;\n",
              "      border-right-color: var(--fill-color);\n",
              "      border-bottom-color: var(--fill-color);\n",
              "    }\n",
              "    90% {\n",
              "      border-color: transparent;\n",
              "      border-bottom-color: var(--fill-color);\n",
              "    }\n",
              "  }\n",
              "</style>\n",
              "\n",
              "      <script>\n",
              "        async function quickchart(key) {\n",
              "          const quickchartButtonEl =\n",
              "            document.querySelector('#' + key + ' button');\n",
              "          quickchartButtonEl.disabled = true;  // To prevent multiple clicks.\n",
              "          quickchartButtonEl.classList.add('colab-df-spinner');\n",
              "          try {\n",
              "            const charts = await google.colab.kernel.invokeFunction(\n",
              "                'suggestCharts', [key], {});\n",
              "          } catch (error) {\n",
              "            console.error('Error during call to suggestCharts:', error);\n",
              "          }\n",
              "          quickchartButtonEl.classList.remove('colab-df-spinner');\n",
              "          quickchartButtonEl.classList.add('colab-df-quickchart-complete');\n",
              "        }\n",
              "        (() => {\n",
              "          let quickchartButtonEl =\n",
              "            document.querySelector('#df-1b8650f6-0b4c-4c3a-b5a7-32c3d9032c38 button');\n",
              "          quickchartButtonEl.style.display =\n",
              "            google.colab.kernel.accessAllowed ? 'block' : 'none';\n",
              "        })();\n",
              "      </script>\n",
              "    </div>\n",
              "\n",
              "  <div id=\"id_2490464c-7b35-49b0-b6a3-b884242843c6\">\n",
              "    <style>\n",
              "      .colab-df-generate {\n",
              "        background-color: #E8F0FE;\n",
              "        border: none;\n",
              "        border-radius: 50%;\n",
              "        cursor: pointer;\n",
              "        display: none;\n",
              "        fill: #1967D2;\n",
              "        height: 32px;\n",
              "        padding: 0 0 0 0;\n",
              "        width: 32px;\n",
              "      }\n",
              "\n",
              "      .colab-df-generate:hover {\n",
              "        background-color: #E2EBFA;\n",
              "        box-shadow: 0px 1px 2px rgba(60, 64, 67, 0.3), 0px 1px 3px 1px rgba(60, 64, 67, 0.15);\n",
              "        fill: #174EA6;\n",
              "      }\n",
              "\n",
              "      [theme=dark] .colab-df-generate {\n",
              "        background-color: #3B4455;\n",
              "        fill: #D2E3FC;\n",
              "      }\n",
              "\n",
              "      [theme=dark] .colab-df-generate:hover {\n",
              "        background-color: #434B5C;\n",
              "        box-shadow: 0px 1px 3px 1px rgba(0, 0, 0, 0.15);\n",
              "        filter: drop-shadow(0px 1px 2px rgba(0, 0, 0, 0.3));\n",
              "        fill: #FFFFFF;\n",
              "      }\n",
              "    </style>\n",
              "    <button class=\"colab-df-generate\" onclick=\"generateWithVariable('df_train')\"\n",
              "            title=\"Generate code using this dataframe.\"\n",
              "            style=\"display:none;\">\n",
              "\n",
              "  <svg xmlns=\"http://www.w3.org/2000/svg\" height=\"24px\"viewBox=\"0 0 24 24\"\n",
              "       width=\"24px\">\n",
              "    <path d=\"M7,19H8.4L18.45,9,17,7.55,7,17.6ZM5,21V16.75L18.45,3.32a2,2,0,0,1,2.83,0l1.4,1.43a1.91,1.91,0,0,1,.58,1.4,1.91,1.91,0,0,1-.58,1.4L9.25,21ZM18.45,9,17,7.55Zm-12,3A5.31,5.31,0,0,0,4.9,8.1,5.31,5.31,0,0,0,1,6.5,5.31,5.31,0,0,0,4.9,4.9,5.31,5.31,0,0,0,6.5,1,5.31,5.31,0,0,0,8.1,4.9,5.31,5.31,0,0,0,12,6.5,5.46,5.46,0,0,0,6.5,12Z\"/>\n",
              "  </svg>\n",
              "    </button>\n",
              "    <script>\n",
              "      (() => {\n",
              "      const buttonEl =\n",
              "        document.querySelector('#id_2490464c-7b35-49b0-b6a3-b884242843c6 button.colab-df-generate');\n",
              "      buttonEl.style.display =\n",
              "        google.colab.kernel.accessAllowed ? 'block' : 'none';\n",
              "\n",
              "      buttonEl.onclick = () => {\n",
              "        google.colab.notebook.generateWithVariable('df_train');\n",
              "      }\n",
              "      })();\n",
              "    </script>\n",
              "  </div>\n",
              "\n",
              "    </div>\n",
              "  </div>\n"
            ],
            "application/vnd.google.colaboratory.intrinsic+json": {
              "type": "dataframe",
              "variable_name": "df_train",
              "summary": "{\n  \"name\": \"df_train\",\n  \"rows\": 1000,\n  \"fields\": [\n    {\n      \"column\": \"hash\",\n      \"properties\": {\n        \"dtype\": \"string\",\n        \"num_unique_values\": 1000,\n        \"samples\": [\n          \"cd8c9964ec4b3f77ab318c68836bfb81.vir\",\n          \"5aa639f4b69779df1438b18f7b1c4dab.vir\",\n          \"9f834d8045691b1401698456dfe06fbb.vir\"\n        ],\n        \"semantic_type\": \"\",\n        \"description\": \"\"\n      }\n    },\n    {\n      \"column\": \"index_orig\",\n      \"properties\": {\n        \"dtype\": \"number\",\n        \"std\": 2856,\n        \"min\": 3,\n        \"max\": 9975,\n        \"num_unique_values\": 1000,\n        \"samples\": [\n          8053,\n          3549,\n          6206\n        ],\n        \"semantic_type\": \"\",\n        \"description\": \"\"\n      }\n    },\n    {\n      \"column\": \"target\",\n      \"properties\": {\n        \"dtype\": \"number\",\n        \"std\": 0,\n        \"min\": 0,\n        \"max\": 1,\n        \"num_unique_values\": 2,\n        \"samples\": [\n          0,\n          1\n        ],\n        \"semantic_type\": \"\",\n        \"description\": \"\"\n      }\n    },\n    {\n      \"column\": \"is_PE\",\n      \"properties\": {\n        \"dtype\": \"boolean\",\n        \"num_unique_values\": 2,\n        \"samples\": [\n          false,\n          true\n        ],\n        \"semantic_type\": \"\",\n        \"description\": \"\"\n      }\n    },\n    {\n      \"column\": \"has_error\",\n      \"properties\": {\n        \"dtype\": \"boolean\",\n        \"num_unique_values\": 2,\n        \"samples\": [\n          true,\n          false\n        ],\n        \"semantic_type\": \"\",\n        \"description\": \"\"\n      }\n    },\n    {\n      \"column\": \"size\",\n      \"properties\": {\n        \"dtype\": \"number\",\n        \"std\": 1709608.7681208914,\n        \"min\": 2052.0,\n        \"max\": 24395780.0,\n        \"num_unique_values\": 823,\n        \"samples\": [\n          683426.0,\n          2011020.0\n        ],\n        \"semantic_type\": \"\",\n        \"description\": \"\"\n      }\n    },\n    {\n      \"column\": \"packer\",\n      \"properties\": {\n        \"dtype\": \"category\",\n        \"num_unique_values\": 113,\n        \"samples\": [\n          \"Borland Delphi (???)\\nBorland Delphi\\nBorland Delphi\\nBorland Delphi\\nBorland Delphi\\nBorland Delphi\\nBorland Delphi\\n\",\n          \"PECompact\\nPECompact\\nPeCompact DLL\\nPECompact Heuristic Mode\\n\"\n        ],\n        \"semantic_type\": \"\",\n        \"description\": \"\"\n      }\n    },\n    {\n      \"column\": \"ifc\",\n      \"properties\": {\n        \"dtype\": \"category\",\n        \"num_unique_values\": 42,\n        \"samples\": [\n          \"0xa18e\",\n          \"0x2023\"\n        ],\n        \"semantic_type\": \"\",\n        \"description\": \"\"\n      }\n    },\n    {\n      \"column\": \"section_cnt\",\n      \"properties\": {\n        \"dtype\": \"number\",\n        \"std\": 5.6095034330573705,\n        \"min\": 1.0,\n        \"max\": 88.0,\n        \"num_unique_values\": 23,\n        \"samples\": [\n          88.0,\n          14.0\n        ],\n        \"semantic_type\": \"\",\n        \"description\": \"\"\n      }\n    },\n    {\n      \"column\": \"ts_entropy\",\n      \"properties\": {\n        \"dtype\": \"number\",\n        \"std\": 1.079297981966031,\n        \"min\": 0.1497969356521067,\n        \"max\": 7.998731764360713,\n        \"num_unique_values\": 682,\n        \"samples\": [\n          4.920602258791103,\n          6.45997087733391\n        ],\n        \"semantic_type\": \"\",\n        \"description\": \"\"\n      }\n    },\n    {\n      \"column\": \"rs_size\",\n      \"properties\": {\n        \"dtype\": \"number\",\n        \"std\": 4194327.175677864,\n        \"min\": 16.0,\n        \"max\": 116526068.0,\n        \"num_unique_values\": 481,\n        \"samples\": [\n          90680.0,\n          1464.0\n        ],\n        \"semantic_type\": \"\",\n        \"description\": \"\"\n      }\n    },\n    {\n      \"column\": \"yara_https\",\n      \"properties\": {\n        \"dtype\": \"category\",\n        \"num_unique_values\": 2,\n        \"samples\": [\n          true,\n          false\n        ],\n        \"semantic_type\": \"\",\n        \"description\": \"\"\n      }\n    },\n    {\n      \"column\": \"file_deleted_cnt\",\n      \"properties\": {\n        \"dtype\": \"number\",\n        \"std\": 27.528720119209297,\n        \"min\": 0.0,\n        \"max\": 300.0,\n        \"num_unique_values\": 60,\n        \"samples\": [\n          0.0,\n          3.0\n        ],\n        \"semantic_type\": \"\",\n        \"description\": \"\"\n      }\n    },\n    {\n      \"column\": \"registry_runkey_modify\",\n      \"properties\": {\n        \"dtype\": \"category\",\n        \"num_unique_values\": 2,\n        \"samples\": [\n          true,\n          false\n        ],\n        \"semantic_type\": \"\",\n        \"description\": \"\"\n      }\n    }\n  ]\n}"
            }
          },
          "metadata": {},
          "execution_count": 27
        }
      ]
    },
    {
      "cell_type": "markdown",
      "source": [
        "### PE가 아닌 data sample 제외"
      ],
      "metadata": {
        "id": "cd63S41IUOqH"
      }
    },
    {
      "cell_type": "code",
      "source": [
        "# PE 포맷의 데이터만 학습에 사용\n",
        "df_train = df_train[df_train[\"is_PE\"]==True]\n",
        "len(df_train)"
      ],
      "metadata": {
        "id": "O3WfJ9S8UPGx",
        "colab": {
          "base_uri": "https://localhost:8080/"
        },
        "outputId": "bb25073a-7d0a-490c-d4be-9322a2147a93"
      },
      "execution_count": 28,
      "outputs": [
        {
          "output_type": "execute_result",
          "data": {
            "text/plain": [
              "991"
            ]
          },
          "metadata": {},
          "execution_count": 28
        }
      ]
    },
    {
      "cell_type": "markdown",
      "source": [
        "### Feature 추출 중 오류가 난 data sample 제외"
      ],
      "metadata": {
        "id": "Hag-GTaUUTbc"
      }
    },
    {
      "cell_type": "code",
      "source": [
        "# Feature 추출에 성공한 데이터만 학습에 사용\n",
        "df_train = df_train[df_train[\"has_error\"]==False]\n",
        "len(df_train)"
      ],
      "metadata": {
        "id": "5I6BlYjyUWdA",
        "colab": {
          "base_uri": "https://localhost:8080/"
        },
        "outputId": "1f14910a-f533-4a34-937d-24255d98e157"
      },
      "execution_count": 29,
      "outputs": [
        {
          "output_type": "execute_result",
          "data": {
            "text/plain": [
              "891"
            ]
          },
          "metadata": {},
          "execution_count": 29
        }
      ]
    },
    {
      "cell_type": "markdown",
      "source": [
        "### 결측치 처리"
      ],
      "metadata": {
        "id": "P1_83QbjUZjT"
      }
    },
    {
      "cell_type": "code",
      "source": [
        "# 결측치 비율 확인\n",
        "df_train.isnull().sum()/len(df_train)*100"
      ],
      "metadata": {
        "id": "A8-StFLHUbzA"
      },
      "execution_count": null,
      "outputs": []
    },
    {
      "cell_type": "code",
      "source": [
        "# 결측치 확인 - packer\n",
        "df_train[df_train['packer'].isnull()]\n",
        "# => 알려지지 않은 packer?"
      ],
      "metadata": {
        "id": "W9_U2ovsUndH"
      },
      "execution_count": null,
      "outputs": []
    },
    {
      "cell_type": "code",
      "source": [
        "# 결측치 확인 - packer\n",
        "# 정상/악성 파일별 분포\n",
        "df_train[df_train['packer'].isnull()].groupby('target').count()\n",
        "# => 비율이 비슷비슷.'unknown' 으로 대체\n",
        "# ==> 추후 ('good', 'bad' 'unknown') 으로 인코딩 후 원핫 인코딩 수행"
      ],
      "metadata": {
        "id": "Zy-uhQ-IUt9M"
      },
      "execution_count": null,
      "outputs": []
    },
    {
      "cell_type": "code",
      "source": [
        "# 결측치 처리 - packer\n",
        "df_train['packer'] = df_train['packer'].fillna('unknown')"
      ],
      "metadata": {
        "id": "ybZXx7L2UuxL"
      },
      "execution_count": null,
      "outputs": []
    },
    {
      "cell_type": "code",
      "source": [
        "# 결측치 확인 - ts_entropy\n",
        "df_train[df_train['ts_entropy'].isnull()]\n",
        "# => .text 섹션 자체가 패킹되어 rename?"
      ],
      "metadata": {
        "id": "KLycYUP4Uw86"
      },
      "execution_count": null,
      "outputs": []
    },
    {
      "cell_type": "code",
      "source": [
        "# 결측치 처리(대체) - ts_entropy: max 값으로 대체\n",
        "replace_value_ts_entropy = df_train['ts_entropy'].max().round(2)\n",
        "df_train['ts_entropy'] = df_train['ts_entropy'].fillna(replace_value_ts_entropy)"
      ],
      "metadata": {
        "id": "rtunsMESUzgZ"
      },
      "execution_count": null,
      "outputs": []
    },
    {
      "cell_type": "code",
      "source": [
        "# 결측치 확인 - rs_size\n",
        "df_train[df_train['rs_size'].isnull()]\n",
        "# => .rsrc 섹션 자체가 없는 경우 대다수"
      ],
      "metadata": {
        "id": "TfPhhTq5U0sK"
      },
      "execution_count": null,
      "outputs": []
    },
    {
      "cell_type": "code",
      "source": [
        "# 결측치 처리(대체) - rs_size: 0으로 대체\n",
        "df_train['rs_size'] = df_train['rs_size'].fillna(0)"
      ],
      "metadata": {
        "id": "1bBccxMsU7uy"
      },
      "execution_count": null,
      "outputs": []
    },
    {
      "cell_type": "code",
      "source": [
        "# 결측치 확인 - file_deleted\n",
        "df_train['file_deleted_cnt'].value_counts(dropna=False)"
      ],
      "metadata": {
        "id": "ukT8Rw0QU_an"
      },
      "execution_count": null,
      "outputs": []
    },
    {
      "cell_type": "code",
      "source": [
        "# 결측치 처리 - file_deleted: 카테고리화 => 추후 원핫 인코딩\n",
        "df_train.loc[(df_train['file_deleted_cnt'] > 0), 'file_deleted_cnt']=\"many\"\n",
        "df_train.loc[(df_train['file_deleted_cnt'] == 0), 'file_deleted_cnt']=\"zero\"\n",
        "df_train.loc[df_train['file_deleted_cnt'].isnull(), 'file_deleted_cnt']=\"unknown\""
      ],
      "metadata": {
        "id": "SpxZ_a0kVAnQ"
      },
      "execution_count": null,
      "outputs": []
    },
    {
      "cell_type": "code",
      "source": [
        "# 결측치 확인 - registry_runkey_modify\n",
        "df_train['registry_runkey_modify'].value_counts(dropna=False)"
      ],
      "metadata": {
        "id": "PQ0leiUeVCOP"
      },
      "execution_count": null,
      "outputs": []
    },
    {
      "cell_type": "code",
      "source": [
        "# 결측치 처리 - registry_runkey_modify: 카테고리화 => 추후 원핫 인코딩\n",
        "df_train.loc[(df_train['registry_runkey_modify'] == True), 'registry_runkey_modify']=\"true\"\n",
        "df_train.loc[(df_train['registry_runkey_modify'] == False), 'registry_runkey_modify']=\"false\"\n",
        "df_train.loc[df_train['registry_runkey_modify'].isnull(), 'registry_runkey_modify']=\"unknown\""
      ],
      "metadata": {
        "id": "g9eIOL1WVDbv"
      },
      "execution_count": null,
      "outputs": []
    },
    {
      "cell_type": "code",
      "source": [
        "df_train"
      ],
      "metadata": {
        "id": "-vWg7k2AVFHD"
      },
      "execution_count": null,
      "outputs": []
    },
    {
      "cell_type": "code",
      "source": [
        "# 결측치 비율 확인\n",
        "df_train.isnull().sum()/len(df_train)*100"
      ],
      "metadata": {
        "id": "tpKc7NivVHT8"
      },
      "execution_count": null,
      "outputs": []
    },
    {
      "cell_type": "markdown",
      "source": [
        "### 이상값 처리"
      ],
      "metadata": {
        "id": "K0F8XpF8VIkT"
      }
    },
    {
      "cell_type": "code",
      "source": [
        "# BoxPlot으로 확인\n",
        "# 우리가 직접 데이터를 가공하였으므로, 데이터 생성/수집상의 오류가 있었을 가능성이 낮으므로 모든 값을 학습에 사용\n",
        "plt.figure(figsize=(16,5))\n",
        "plt.subplot(1, 4, 1) # 1행 4열의 4개의 그래프 중 첫번째로 state 이동\n",
        "plt.boxplot([df_train['size']])\n",
        "plt.xticks([1],['size'])\n",
        "plt.subplot(1, 4, 2)\n",
        "plt.boxplot([df_train['section_cnt']])\n",
        "plt.xticks([1],['section_cnt'])\n",
        "plt.subplot(1, 4, 3)\n",
        "plt.boxplot([df_train['ts_entropy']])\n",
        "plt.xticks([1],['ts_entropy'])\n",
        "plt.subplot(1, 4, 4)\n",
        "plt.boxplot([df_train['rs_size']])\n",
        "plt.xticks([1],['rs_size'])"
      ],
      "metadata": {
        "id": "JesPCOzPVKRY"
      },
      "execution_count": null,
      "outputs": []
    },
    {
      "cell_type": "code",
      "source": [
        "# section_cnt 이상치 원본 데이터 확인\n",
        "df_train[df_train['section_cnt']>80]"
      ],
      "metadata": {
        "id": "d4MxqP-wVOA3"
      },
      "execution_count": null,
      "outputs": []
    },
    {
      "cell_type": "markdown",
      "source": [
        "### 데이터 정규화"
      ],
      "metadata": {
        "id": "JzfZvR1TVPXW"
      }
    },
    {
      "cell_type": "code",
      "source": [
        "# 다음 컬럼에 대해 z-score 정규화\n",
        "columns_to_scale = ['size', 'section_cnt', 'ts_entropy', 'rs_size']\n",
        "scaler_train = preprocessing.StandardScaler()\n",
        "scaler_train = scaler_train.fit(df_train[columns_to_scale])\n",
        "df_train[columns_to_scale] = scaler_train.transform(df_train[columns_to_scale])\n",
        "df_train"
      ],
      "metadata": {
        "id": "45ZVQlxRVQ47"
      },
      "execution_count": null,
      "outputs": []
    },
    {
      "cell_type": "markdown",
      "source": [
        "### 데이터 인코딩"
      ],
      "metadata": {
        "id": "basEcDoMVTrJ"
      }
    },
    {
      "cell_type": "code",
      "source": [
        "# 범주형 데이터 확인 : packer\n",
        "df_train['packer'].value_counts(dropna=False)"
      ],
      "metadata": {
        "id": "pzqwzAOGVV47"
      },
      "execution_count": null,
      "outputs": []
    },
    {
      "cell_type": "code",
      "source": [
        "# 범주형 데이터 확인 : packer(정상샘플)\n",
        "packer_list = [val.split('\\n') for val in df_train[df_train['target']==0]['packer'].values] #각 value를 줄바꿈 문자열 기준으로 split\n",
        "packer_list = list(itertools.chain.from_iterable(packer_list)) # 이중 리스트 faltten\n",
        "normal_packer_set = set(packer_list)\n",
        "normal_packer_set"
      ],
      "metadata": {
        "id": "jDZwcXOTVYFc"
      },
      "execution_count": null,
      "outputs": []
    },
    {
      "cell_type": "code",
      "source": [
        "# 범주형 데이터 확인 : packer(악성샘플)\n",
        "packer_list = [val.split('\\n') for val in df_train[df_train['target']==1]['packer'].values] #각 value를 줄바꿈 문자열 기준으로 split\n",
        "packer_list = list(itertools.chain.from_iterable(packer_list)) # 이중 리스트 faltten\n",
        "mal_packer_set = set(packer_list)\n",
        "mal_packer_set"
      ],
      "metadata": {
        "id": "dCqyolalVaD3"
      },
      "execution_count": null,
      "outputs": []
    },
    {
      "cell_type": "code",
      "source": [
        "# 악성샘플과 정상샘플 모두가 사용하는 packer\n",
        "common_packer = normal_packer_set.intersection(mal_packer_set)\n",
        "common_packer"
      ],
      "metadata": {
        "id": "ZNyu06NUVbNA"
      },
      "execution_count": null,
      "outputs": []
    },
    {
      "cell_type": "code",
      "source": [
        "# 범주형 데이터 확인 : image file characteristics\n",
        "df_train['ifc'].value_counts(dropna=False)[:10]"
      ],
      "metadata": {
        "id": "ojLk447KVeKp"
      },
      "execution_count": null,
      "outputs": []
    },
    {
      "cell_type": "code",
      "source": [
        "# 데이터 원핫 인코딩\n",
        "df_train = pd.get_dummies(df_train, columns = ['file_deleted_cnt', 'registry_runkey_modify'])"
      ],
      "metadata": {
        "id": "zF1nc3ppVfr2"
      },
      "execution_count": null,
      "outputs": []
    },
    {
      "cell_type": "code",
      "source": [
        "df_train"
      ],
      "metadata": {
        "id": "cxo2PX-iVhXw"
      },
      "execution_count": null,
      "outputs": []
    },
    {
      "cell_type": "markdown",
      "source": [
        "# 3-3. 탐색적 분석 : 산포도 분석"
      ],
      "metadata": {
        "id": "iMWSZsWKViOR"
      }
    },
    {
      "cell_type": "code",
      "source": [
        "# 히스토그램 - size\n",
        "hist1 = df_train[df_train['target']==0]['size']\n",
        "hist2 = df_train[df_train['target']==1]['size']\n",
        "plt.hist(hist1,label='normal', alpha=0.5, bins=25)\n",
        "plt.hist(hist2,label='malicious', alpha=0.5, bins=25)\n",
        "plt.legend(loc=0)"
      ],
      "metadata": {
        "id": "P162YtejVlpx"
      },
      "execution_count": null,
      "outputs": []
    },
    {
      "cell_type": "code",
      "source": [
        "# 히스토그램 - size (관심영역 초점)\n",
        "hist1 = df_train[(df_train['target']==0) & (df_train['size']>2)]['size']\n",
        "hist2 = df_train[(df_train['target']==1) & (df_train['size']>2)]['size']\n",
        "plt.hist(hist1,label='normal', alpha=0.5, bins=25)\n",
        "plt.hist(hist2,label='malicious', alpha=0.5, bins=25)\n",
        "plt.legend(loc=0)"
      ],
      "metadata": {
        "id": "h0FIPbYeVna1"
      },
      "execution_count": null,
      "outputs": []
    },
    {
      "cell_type": "code",
      "source": [
        "# 산점도 plot\n",
        "df_train.plot.scatter(x='section_cnt', y='ts_entropy', c='target', colormap='RdBu_r', alpha=0.5)"
      ],
      "metadata": {
        "id": "f1ECBz4jVn3K"
      },
      "execution_count": null,
      "outputs": []
    },
    {
      "cell_type": "markdown",
      "source": [
        "### 전처리 프로세스 함수화"
      ],
      "metadata": {
        "id": "xA7dDOoMbxh1"
      }
    },
    {
      "cell_type": "code",
      "source": [
        "def part3_preprocessing(df, mode='train', replace_ts_entropy=None, scaler=None):\n",
        "    # PE 포맷의 데이터만 학습에 사용\n",
        "\n",
        "\n",
        "    # Feature 추출에 성공한 데이터만 학습에 사용\n",
        "\n",
        "\n",
        "    # 결측치 처리 - packer\n",
        "\n",
        "\n",
        "    # 결측치 처리(대체) - ts_entropy: max 값으로 대체\n",
        "\n",
        "\n",
        "    # 결측치 처리(대체) - rs_size: 0으로 대체\n",
        "\n",
        "\n",
        "    # 결측치 처리 - file_deleted: 카테고리화 => 추후 원핫 인코딩\n",
        "\n",
        "\n",
        "    # 결측치 처리 - registry_runkey_modify: 카테고리화 => 추후 원핫 인코딩\n",
        "\n",
        "\n",
        "    # 다음 컬럼에 대해 z-score 정규화\n",
        "    columns_to_scale = ['size', 'section_cnt', 'ts_entropy', 'rs_size']\n",
        "\n",
        "\n",
        "    # 데이터 원핫 인코딩\n",
        "\n",
        "\n",
        "    return df, replace_ts_entropy, scaler"
      ],
      "metadata": {
        "id": "xNE1uMLucs3_"
      },
      "execution_count": null,
      "outputs": []
    },
    {
      "cell_type": "code",
      "source": [
        "# 학습 데이터 전처리 (일괄 적용)\n",
        "df_train = pd.read_csv(colab_path + 'data_with_feature_csv/train_1st.csv', index_col='hash')\n",
        "df_train, replace_ts_entropy, scaler = part3_preprocessing(df_train, 'train')\n",
        "df_train"
      ],
      "metadata": {
        "id": "-Wiy0HB1hA-D"
      },
      "execution_count": null,
      "outputs": []
    },
    {
      "cell_type": "code",
      "source": [
        "df_train.isnull().sum()"
      ],
      "metadata": {
        "id": "RYczCvRAn3uy"
      },
      "execution_count": null,
      "outputs": []
    },
    {
      "cell_type": "markdown",
      "source": [
        "### 전처리 데이터 저장"
      ],
      "metadata": {
        "id": "Qy7HQtKkVvm1"
      }
    },
    {
      "cell_type": "code",
      "source": [
        "# 추후 모델링을 위해 저장\n",
        "df_train.to_csv(colab_path + 'data_with_feature_csv/train_processed1.csv')"
      ],
      "metadata": {
        "id": "LXUBrAI1VySL"
      },
      "execution_count": null,
      "outputs": []
    },
    {
      "cell_type": "markdown",
      "source": [
        "# 3-4. 모델링 & 3-5. 모델 평가 및 검증"
      ],
      "metadata": {
        "id": "kZjKfFfbWXpw"
      }
    },
    {
      "cell_type": "code",
      "source": [
        "# 전처리된 파일 로드\n",
        "df_train = pd.read_csv(colab_path + \"data_with_feature_csv/train_processed1.csv\", index_col='hash')\n",
        "df_train"
      ],
      "metadata": {
        "id": "mKMp2Q5WWVTK"
      },
      "execution_count": null,
      "outputs": []
    },
    {
      "cell_type": "code",
      "source": [
        "# 학습할 Feature 선택 및 X,y 분리\n",
        "target_col = 'target'\n",
        "cols_to_train = ['size', 'section_cnt', 'ts_entropy', 'rs_size', 'yara_https', 'file_deleted_cnt_many', 'file_deleted_cnt_unknown', 'file_deleted_cnt_zero',\n",
        "                 'registry_runkey_modify_false', 'registry_runkey_modify_unknown']\n",
        "#cols_to_train = ['size', 'section_cnt', 'ts_entropy', 'rs_size']\n",
        "train_y = df_train[target_col]\n",
        "train_X = df_train[cols_to_train]\n",
        "train_X"
      ],
      "metadata": {
        "id": "D-0VmVETWcU7"
      },
      "execution_count": null,
      "outputs": []
    },
    {
      "cell_type": "code",
      "source": [
        "# 훈련용/평가용 데이터 분할\n",
        "train_X, val_X, train_y, val_y = train_test_split(train_X, train_y, test_size=0.3, random_state=42 )\n",
        "train_X"
      ],
      "metadata": {
        "id": "5yUHOnQZWdw4"
      },
      "execution_count": null,
      "outputs": []
    },
    {
      "cell_type": "code",
      "source": [
        "# 모델1 학습 및 평가\n",
        "model1 = LogisticRegression(C=20, max_iter=1000, random_state=42)\n",
        "model1.fit(train_X, train_y)\n",
        "print(model1.score(train_X, train_y))  # accuracy\n",
        "print(model1.score(val_X, val_y))"
      ],
      "metadata": {
        "id": "rVM5tlf_WfbN"
      },
      "execution_count": null,
      "outputs": []
    },
    {
      "cell_type": "code",
      "source": [
        "# 모델 2 학습 및 평가\n",
        "model2 = SVC(kernel = 'linear', probability=True, random_state=42)\n",
        "model2.fit(train_X, train_y)\n",
        "print(model2.score(train_X, train_y))  # accuracy\n",
        "print(model2.score(val_X, val_y))"
      ],
      "metadata": {
        "id": "rf3kGZS6Wg5b"
      },
      "execution_count": null,
      "outputs": []
    },
    {
      "cell_type": "code",
      "source": [
        "# 모델 3 학습 및 평가\n",
        "model3 = RandomForestClassifier(max_depth = 3, random_state=42)\n",
        "model3.fit(train_X, train_y)\n",
        "print(model3.score(train_X, train_y))  # accuracy\n",
        "print(model3.score(val_X, val_y))"
      ],
      "metadata": {
        "id": "jhPd_OyJWiEA"
      },
      "execution_count": null,
      "outputs": []
    },
    {
      "cell_type": "code",
      "source": [
        "# 모델 1 저장\n",
        "save_dict ={\n",
        "    \"model\" : model1,\n",
        "    \"target_col\": target_col,\n",
        "    \"cols_to_train\" : cols_to_train\n",
        "}\n",
        "with open(colab_path + 'model/saved_model.pickle','wb') as fw:\n",
        "    pickle.dump(save_dict, fw)"
      ],
      "metadata": {
        "id": "rxZq7y6FrrNU"
      },
      "execution_count": null,
      "outputs": []
    },
    {
      "cell_type": "markdown",
      "source": [
        "# 3-6. 모델 적용 및 운영방안 수립"
      ],
      "metadata": {
        "id": "5naJHneycHXq"
      }
    },
    {
      "cell_type": "code",
      "source": [
        "# 저장된 모델 로드\n",
        "with open(colab_path + 'model/saved_model.pickle','rb') as f:\n",
        "    saved_dict = pickle.load(f)\n",
        "model = saved_dict['model']\n",
        "target_col = saved_dict['target_col']\n",
        "cols_to_train = saved_dict['cols_to_train']"
      ],
      "metadata": {
        "id": "im_SuYEIuPYE"
      },
      "execution_count": null,
      "outputs": []
    },
    {
      "cell_type": "code",
      "source": [
        "# 테스트용 데이터 로드\n",
        "df_test = pd.read_csv(colab_path + \"data_orig/testSet_label_300.csv\", index_col='hash')\n"
      ],
      "metadata": {
        "id": "AGXpk7iSWmsJ"
      },
      "execution_count": null,
      "outputs": []
    },
    {
      "cell_type": "code",
      "source": [
        "%%time\n",
        "# feature 추출\n",
        "df_test = feature_extract(df_test, 'test')"
      ],
      "metadata": {
        "id": "wEOmUngxdG3k"
      },
      "execution_count": null,
      "outputs": []
    },
    {
      "cell_type": "code",
      "source": [
        "# 테스트 데이터 전처리 (일괄 적용)\n",
        "df_test, replace_ts_entropy, scaler = part3_preprocessing(df_test, 'test', replace_ts_entropy, scaler)"
      ],
      "metadata": {
        "id": "BaoYzHtedN7Z"
      },
      "execution_count": null,
      "outputs": []
    },
    {
      "cell_type": "code",
      "source": [
        "# 전처리된 테스트용 데이터 저장\n",
        "df_test.to_csv(colab_path + 'data_with_feature_csv/test_processed1.csv')"
      ],
      "metadata": {
        "id": "E9i57ejksHx6"
      },
      "execution_count": null,
      "outputs": []
    },
    {
      "cell_type": "code",
      "source": [
        "# 전처리된 테스트용 데이터 로드\n",
        "df_test = pd.read_csv(colab_path + 'data_with_feature_csv/test_processed1.csv', index_col='hash')"
      ],
      "metadata": {
        "id": "rCqCemHhd6X8"
      },
      "execution_count": null,
      "outputs": []
    },
    {
      "cell_type": "code",
      "source": [
        "# 예측할 Feature 선택 및 X,y 분리\n",
        "test_y = df_test[target_col]\n",
        "test_X = df_test[cols_to_train]\n",
        "test_X"
      ],
      "metadata": {
        "id": "LYCj-4zmoJen"
      },
      "execution_count": null,
      "outputs": []
    },
    {
      "cell_type": "code",
      "source": [
        "# 모델 성능 - accuracy\n",
        "model.score(test_X, test_y)"
      ],
      "metadata": {
        "id": "d3K3rehjjXtq"
      },
      "execution_count": null,
      "outputs": []
    },
    {
      "cell_type": "code",
      "source": [
        "# 테스트 데이터에 대한 예측 값 산출\n",
        "pred_y = model.predict(test_X)\n",
        "\n",
        "# 모델 성능 - confusion matrix\n",
        "conf_mat = confusion_matrix(y_true=test_y, y_pred=pred_y)\n",
        "conf_mat"
      ],
      "metadata": {
        "id": "VxJ12rxRghTA"
      },
      "execution_count": null,
      "outputs": []
    },
    {
      "cell_type": "code",
      "source": [
        "# confusion matrix 시각화\n",
        "plot_confusion_matrix(model, test_X, test_y, normalize=None)"
      ],
      "metadata": {
        "id": "hqnh3zTbuuiz"
      },
      "execution_count": null,
      "outputs": []
    },
    {
      "cell_type": "code",
      "source": [
        "df_test['target'].value_counts().sort_index()"
      ],
      "metadata": {
        "id": "GOORg2vAf9cA"
      },
      "execution_count": null,
      "outputs": []
    },
    {
      "cell_type": "code",
      "source": [],
      "metadata": {
        "id": "qlvdMJFqv9K6"
      },
      "execution_count": null,
      "outputs": []
    }
  ],
  "metadata": {
    "colab": {
      "provenance": [],
      "include_colab_link": true
    },
    "kernelspec": {
      "display_name": "Python 3",
      "name": "python3"
    },
    "language_info": {
      "name": "python"
    }
  },
  "nbformat": 4,
  "nbformat_minor": 0
}